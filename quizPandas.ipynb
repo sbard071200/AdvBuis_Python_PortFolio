{
 "cells": [
  {
   "cell_type": "markdown",
   "metadata": {
    "deletable": false,
    "editable": false,
    "nbgrader": {
     "cell_type": "markdown",
     "checksum": "689f74b7cd95710be91df99ac1d322e7",
     "grade": false,
     "grade_id": "cell-10a03ad5de1d247d",
     "locked": true,
     "schema_version": 3,
     "solution": false,
     "task": false
    }
   },
   "source": [
    "### Q1\n",
    ">- Import the packages `os`, and `pandas`"
   ]
  },
  {
   "cell_type": "code",
   "execution_count": 1,
   "metadata": {
    "deletable": false,
    "nbgrader": {
     "cell_type": "code",
     "checksum": "ec5d80ecff167baf27d5b8660f16e94a",
     "grade": false,
     "grade_id": "cell-b7831d6fbf7d613d",
     "locked": false,
     "schema_version": 3,
     "solution": true,
     "task": false
    }
   },
   "outputs": [],
   "source": [
    "import pandas as pd\n",
    "import os"
   ]
  },
  {
   "cell_type": "code",
   "execution_count": null,
   "metadata": {
    "deletable": false,
    "editable": false,
    "nbgrader": {
     "cell_type": "code",
     "checksum": "152fe00fc5de310a51a787656e10955b",
     "grade": true,
     "grade_id": "cell-45779676dba5b018",
     "locked": true,
     "points": 0,
     "schema_version": 3,
     "solution": false,
     "task": false
    }
   },
   "outputs": [],
   "source": []
  },
  {
   "cell_type": "markdown",
   "metadata": {
    "deletable": false,
    "editable": false,
    "nbgrader": {
     "cell_type": "markdown",
     "checksum": "63342826a51eb3552503c4df6f15cbe3",
     "grade": false,
     "grade_id": "cell-2d705e1a4807bd08",
     "locked": true,
     "schema_version": 3,
     "solution": false,
     "task": false
    }
   },
   "source": [
    "### Q2\n",
    ">- Write a quick loop using `os` to find the file `spotify.csv`\n",
    ">- store the file name in a variable called `file`"
   ]
  },
  {
   "cell_type": "code",
   "execution_count": 41,
   "metadata": {
    "deletable": false,
    "nbgrader": {
     "cell_type": "code",
     "checksum": "7a949c870df152d184a2927e1e74cce4",
     "grade": false,
     "grade_id": "cell-70741dad6ab3471a",
     "locked": false,
     "schema_version": 3,
     "solution": true,
     "task": false
    }
   },
   "outputs": [
    {
     "name": "stdout",
     "output_type": "stream",
     "text": [
      "spotify_tracks.csv\n"
     ]
    }
   ],
   "source": [
    "os.getcwd()\n",
    "for file in os.listdir():\n",
    "    if '.csv' in file:\n",
    "        print(file)\n",
    "    elif '.xlsx' in file:\n",
    "        print(file)"
   ]
  },
  {
   "cell_type": "code",
   "execution_count": 42,
   "metadata": {
    "deletable": false,
    "editable": false,
    "nbgrader": {
     "cell_type": "code",
     "checksum": "2c1546ea3a45ff05ed2f724b57acd76d",
     "grade": true,
     "grade_id": "cell-e479b00815329dd6",
     "locked": true,
     "points": 2,
     "schema_version": 3,
     "solution": false,
     "task": false
    }
   },
   "outputs": [],
   "source": [
    "### BEGIN TESTS\n",
    "assert file == 'spotify_tracks.csv'\n",
    "        \n",
    "### END TESTS"
   ]
  },
  {
   "cell_type": "markdown",
   "metadata": {
    "deletable": false,
    "editable": false,
    "nbgrader": {
     "cell_type": "markdown",
     "checksum": "cee93db2bd73f9622d00fd2d8c99729a",
     "grade": false,
     "grade_id": "cell-a387d5d9a4c15580",
     "locked": true,
     "schema_version": 3,
     "solution": false,
     "task": false
    }
   },
   "source": [
    "### Q3\n",
    "\n",
    ">- Read the file `spotify_tracks.csv` into python as a pandas dataframe.\n",
    ">- Make sure that you remove the index column using `index_col = 0`\n",
    ">- Name your dataframe `spotify`"
   ]
  },
  {
   "cell_type": "code",
   "execution_count": 47,
   "metadata": {
    "deletable": false,
    "nbgrader": {
     "cell_type": "code",
     "checksum": "9423d5464207e9afd1b5e67d6220d273",
     "grade": false,
     "grade_id": "cell-5b5a7269f2cc4787",
     "locked": false,
     "schema_version": 3,
     "solution": true,
     "task": false
    }
   },
   "outputs": [
    {
     "data": {
      "text/html": [
       "<div>\n",
       "<style scoped>\n",
       "    .dataframe tbody tr th:only-of-type {\n",
       "        vertical-align: middle;\n",
       "    }\n",
       "\n",
       "    .dataframe tbody tr th {\n",
       "        vertical-align: top;\n",
       "    }\n",
       "\n",
       "    .dataframe thead th {\n",
       "        text-align: right;\n",
       "    }\n",
       "</style>\n",
       "<table border=\"1\" class=\"dataframe\">\n",
       "  <thead>\n",
       "    <tr style=\"text-align: right;\">\n",
       "      <th></th>\n",
       "      <th>acousticness</th>\n",
       "      <th>album_id</th>\n",
       "      <th>analysis_url</th>\n",
       "      <th>artists_id</th>\n",
       "      <th>available_markets</th>\n",
       "      <th>country</th>\n",
       "      <th>danceability</th>\n",
       "      <th>disc_number</th>\n",
       "      <th>duration_ms</th>\n",
       "      <th>energy</th>\n",
       "      <th>...</th>\n",
       "      <th>preview_url</th>\n",
       "      <th>speechiness</th>\n",
       "      <th>tempo</th>\n",
       "      <th>time_signature</th>\n",
       "      <th>track_href</th>\n",
       "      <th>track_name_prev</th>\n",
       "      <th>track_number</th>\n",
       "      <th>uri</th>\n",
       "      <th>valence</th>\n",
       "      <th>type</th>\n",
       "    </tr>\n",
       "  </thead>\n",
       "  <tbody>\n",
       "    <tr>\n",
       "      <th>0</th>\n",
       "      <td>0.294</td>\n",
       "      <td>0D3QufeCudpQANOR7luqdr</td>\n",
       "      <td>https://api.spotify.com/v1/audio-analysis/5qlj...</td>\n",
       "      <td>['3mxJuHRn2ZWD5OofvJtDZY']</td>\n",
       "      <td>['AD', 'AE', 'AR', 'AT', 'AU', 'BE', 'BG', 'BH...</td>\n",
       "      <td>BE</td>\n",
       "      <td>0.698</td>\n",
       "      <td>1.0</td>\n",
       "      <td>235584.0</td>\n",
       "      <td>0.606</td>\n",
       "      <td>...</td>\n",
       "      <td>https://p.scdn.co/mp3-preview/1b05a902da3a251d...</td>\n",
       "      <td>0.0262</td>\n",
       "      <td>115.018</td>\n",
       "      <td>4.0</td>\n",
       "      <td>https://api.spotify.com/v1/tracks/5qljLQuKnNJf...</td>\n",
       "      <td>track_14</td>\n",
       "      <td>1.0</td>\n",
       "      <td>spotify:track:5qljLQuKnNJf4F4vfxQB0V</td>\n",
       "      <td>0.6220</td>\n",
       "      <td>track</td>\n",
       "    </tr>\n",
       "    <tr>\n",
       "      <th>1</th>\n",
       "      <td>0.863</td>\n",
       "      <td>1bcqsH5UyTBzmh9YizdsBE</td>\n",
       "      <td>https://api.spotify.com/v1/audio-analysis/3VAX...</td>\n",
       "      <td>['4xWMewm6CYMstu0sPgd9jJ']</td>\n",
       "      <td>['AD', 'AE', 'AR', 'AT', 'AU', 'BE', 'BG', 'BH...</td>\n",
       "      <td>BE</td>\n",
       "      <td>0.719</td>\n",
       "      <td>1.0</td>\n",
       "      <td>656960.0</td>\n",
       "      <td>0.308</td>\n",
       "      <td>...</td>\n",
       "      <td>https://p.scdn.co/mp3-preview/d8140736a6131cb5...</td>\n",
       "      <td>0.9220</td>\n",
       "      <td>115.075</td>\n",
       "      <td>3.0</td>\n",
       "      <td>https://api.spotify.com/v1/tracks/3VAX2MJdmdqA...</td>\n",
       "      <td>track_3</td>\n",
       "      <td>3.0</td>\n",
       "      <td>spotify:track:3VAX2MJdmdqARLSU5hPMpm</td>\n",
       "      <td>0.5890</td>\n",
       "      <td>track</td>\n",
       "    </tr>\n",
       "    <tr>\n",
       "      <th>2</th>\n",
       "      <td>0.750</td>\n",
       "      <td>4tKijjmxGClg4JOLAyo2qE</td>\n",
       "      <td>https://api.spotify.com/v1/audio-analysis/1L3Y...</td>\n",
       "      <td>['3hYaK5FF3YAglCj5HZgBnP']</td>\n",
       "      <td>['GB']</td>\n",
       "      <td>BE</td>\n",
       "      <td>0.466</td>\n",
       "      <td>1.0</td>\n",
       "      <td>492840.0</td>\n",
       "      <td>0.931</td>\n",
       "      <td>...</td>\n",
       "      <td>https://p.scdn.co/mp3-preview/c8af28fb15185b18...</td>\n",
       "      <td>0.9440</td>\n",
       "      <td>79.565</td>\n",
       "      <td>4.0</td>\n",
       "      <td>https://api.spotify.com/v1/tracks/1L3YAhsEMrGV...</td>\n",
       "      <td>track_4</td>\n",
       "      <td>4.0</td>\n",
       "      <td>spotify:track:1L3YAhsEMrGVvCgDXj2TYn</td>\n",
       "      <td>0.0850</td>\n",
       "      <td>track</td>\n",
       "    </tr>\n",
       "    <tr>\n",
       "      <th>3</th>\n",
       "      <td>0.763</td>\n",
       "      <td>6FeJF5r8roonnKraJxr4oB</td>\n",
       "      <td>https://api.spotify.com/v1/audio-analysis/6aCe...</td>\n",
       "      <td>['2KQsUB9DRBcJk17JWX1eXD']</td>\n",
       "      <td>['AD', 'AE', 'AR', 'AT', 'AU', 'BE', 'BG', 'BH...</td>\n",
       "      <td>BE</td>\n",
       "      <td>0.719</td>\n",
       "      <td>1.0</td>\n",
       "      <td>316578.0</td>\n",
       "      <td>0.126</td>\n",
       "      <td>...</td>\n",
       "      <td>https://p.scdn.co/mp3-preview/7629b8e9f31f6e9b...</td>\n",
       "      <td>0.9380</td>\n",
       "      <td>112.822</td>\n",
       "      <td>3.0</td>\n",
       "      <td>https://api.spotify.com/v1/tracks/6aCe9zzoZmCo...</td>\n",
       "      <td>track_9</td>\n",
       "      <td>1.0</td>\n",
       "      <td>spotify:track:6aCe9zzoZmCojX7bbgKKtf</td>\n",
       "      <td>0.5330</td>\n",
       "      <td>track</td>\n",
       "    </tr>\n",
       "    <tr>\n",
       "      <th>4</th>\n",
       "      <td>0.770</td>\n",
       "      <td>4tKijjmxGClg4JOLAyo2qE</td>\n",
       "      <td>https://api.spotify.com/v1/audio-analysis/1Vo8...</td>\n",
       "      <td>['3hYaK5FF3YAglCj5HZgBnP']</td>\n",
       "      <td>['GB']</td>\n",
       "      <td>BE</td>\n",
       "      <td>0.460</td>\n",
       "      <td>1.0</td>\n",
       "      <td>558880.0</td>\n",
       "      <td>0.942</td>\n",
       "      <td>...</td>\n",
       "      <td>https://p.scdn.co/mp3-preview/32be593c0eb82868...</td>\n",
       "      <td>0.9430</td>\n",
       "      <td>81.260</td>\n",
       "      <td>4.0</td>\n",
       "      <td>https://api.spotify.com/v1/tracks/1Vo802A38tPF...</td>\n",
       "      <td>track_2</td>\n",
       "      <td>2.0</td>\n",
       "      <td>spotify:track:1Vo802A38tPFHmje1h91um</td>\n",
       "      <td>0.0906</td>\n",
       "      <td>track</td>\n",
       "    </tr>\n",
       "  </tbody>\n",
       "</table>\n",
       "<p>5 rows × 31 columns</p>\n",
       "</div>"
      ],
      "text/plain": [
       "   acousticness                album_id  \\\n",
       "0         0.294  0D3QufeCudpQANOR7luqdr   \n",
       "1         0.863  1bcqsH5UyTBzmh9YizdsBE   \n",
       "2         0.750  4tKijjmxGClg4JOLAyo2qE   \n",
       "3         0.763  6FeJF5r8roonnKraJxr4oB   \n",
       "4         0.770  4tKijjmxGClg4JOLAyo2qE   \n",
       "\n",
       "                                        analysis_url  \\\n",
       "0  https://api.spotify.com/v1/audio-analysis/5qlj...   \n",
       "1  https://api.spotify.com/v1/audio-analysis/3VAX...   \n",
       "2  https://api.spotify.com/v1/audio-analysis/1L3Y...   \n",
       "3  https://api.spotify.com/v1/audio-analysis/6aCe...   \n",
       "4  https://api.spotify.com/v1/audio-analysis/1Vo8...   \n",
       "\n",
       "                   artists_id  \\\n",
       "0  ['3mxJuHRn2ZWD5OofvJtDZY']   \n",
       "1  ['4xWMewm6CYMstu0sPgd9jJ']   \n",
       "2  ['3hYaK5FF3YAglCj5HZgBnP']   \n",
       "3  ['2KQsUB9DRBcJk17JWX1eXD']   \n",
       "4  ['3hYaK5FF3YAglCj5HZgBnP']   \n",
       "\n",
       "                                   available_markets country  danceability  \\\n",
       "0  ['AD', 'AE', 'AR', 'AT', 'AU', 'BE', 'BG', 'BH...      BE         0.698   \n",
       "1  ['AD', 'AE', 'AR', 'AT', 'AU', 'BE', 'BG', 'BH...      BE         0.719   \n",
       "2                                             ['GB']      BE         0.466   \n",
       "3  ['AD', 'AE', 'AR', 'AT', 'AU', 'BE', 'BG', 'BH...      BE         0.719   \n",
       "4                                             ['GB']      BE         0.460   \n",
       "\n",
       "   disc_number  duration_ms  energy  ...  \\\n",
       "0          1.0     235584.0   0.606  ...   \n",
       "1          1.0     656960.0   0.308  ...   \n",
       "2          1.0     492840.0   0.931  ...   \n",
       "3          1.0     316578.0   0.126  ...   \n",
       "4          1.0     558880.0   0.942  ...   \n",
       "\n",
       "                                         preview_url speechiness    tempo  \\\n",
       "0  https://p.scdn.co/mp3-preview/1b05a902da3a251d...      0.0262  115.018   \n",
       "1  https://p.scdn.co/mp3-preview/d8140736a6131cb5...      0.9220  115.075   \n",
       "2  https://p.scdn.co/mp3-preview/c8af28fb15185b18...      0.9440   79.565   \n",
       "3  https://p.scdn.co/mp3-preview/7629b8e9f31f6e9b...      0.9380  112.822   \n",
       "4  https://p.scdn.co/mp3-preview/32be593c0eb82868...      0.9430   81.260   \n",
       "\n",
       "   time_signature                                         track_href  \\\n",
       "0             4.0  https://api.spotify.com/v1/tracks/5qljLQuKnNJf...   \n",
       "1             3.0  https://api.spotify.com/v1/tracks/3VAX2MJdmdqA...   \n",
       "2             4.0  https://api.spotify.com/v1/tracks/1L3YAhsEMrGV...   \n",
       "3             3.0  https://api.spotify.com/v1/tracks/6aCe9zzoZmCo...   \n",
       "4             4.0  https://api.spotify.com/v1/tracks/1Vo802A38tPF...   \n",
       "\n",
       "   track_name_prev track_number                                   uri valence  \\\n",
       "0         track_14          1.0  spotify:track:5qljLQuKnNJf4F4vfxQB0V  0.6220   \n",
       "1          track_3          3.0  spotify:track:3VAX2MJdmdqARLSU5hPMpm  0.5890   \n",
       "2          track_4          4.0  spotify:track:1L3YAhsEMrGVvCgDXj2TYn  0.0850   \n",
       "3          track_9          1.0  spotify:track:6aCe9zzoZmCojX7bbgKKtf  0.5330   \n",
       "4          track_2          2.0  spotify:track:1Vo802A38tPFHmje1h91um  0.0906   \n",
       "\n",
       "    type  \n",
       "0  track  \n",
       "1  track  \n",
       "2  track  \n",
       "3  track  \n",
       "4  track  \n",
       "\n",
       "[5 rows x 31 columns]"
      ]
     },
     "execution_count": 47,
     "metadata": {},
     "output_type": "execute_result"
    }
   ],
   "source": [
    "spotify = pd.read_csv(file, index_col = 0)\n",
    "spotify.head()"
   ]
  },
  {
   "cell_type": "markdown",
   "metadata": {
    "deletable": false,
    "editable": false,
    "nbgrader": {
     "cell_type": "markdown",
     "checksum": "6ed9f9fd834d3be093d2d17167a85f13",
     "grade": false,
     "grade_id": "cell-e7d569538419e917",
     "locked": true,
     "schema_version": 3,
     "solution": false,
     "task": false
    }
   },
   "source": [
    "### DO NOT RUN THE NEXT CELL"
   ]
  },
  {
   "cell_type": "code",
   "execution_count": null,
   "metadata": {
    "deletable": false,
    "editable": false,
    "nbgrader": {
     "cell_type": "code",
     "checksum": "8e733683e982499dadcca0ceb6e2dc27",
     "grade": false,
     "grade_id": "cell-60944de3aeabdbcc",
     "locked": true,
     "schema_version": 3,
     "solution": false,
     "task": false
    }
   },
   "outputs": [],
   "source": [
    "################################\n",
    "################################\n",
    "##### DO NOT RUN THIS CELL #####\n",
    "################################\n",
    "################################\n",
    "\n",
    "### This cell is so my computer will load the proper data when I grade the assignment\n",
    "### If you run this cell, simply re run the cell you used to read in the data (it should be the cell above this one)\n",
    "\n",
    "spotify = pd.read_csv('/Users/drewwilliams/Desktop/PyClass/2021 Fall/spotify_tracks.csv', index_col = 0)"
   ]
  },
  {
   "cell_type": "markdown",
   "metadata": {
    "deletable": false,
    "editable": false,
    "nbgrader": {
     "cell_type": "markdown",
     "checksum": "3d0c92d54d9318e40591f8fa1b6d6695",
     "grade": false,
     "grade_id": "cell-793054c6ebf81f73",
     "locked": true,
     "schema_version": 3,
     "solution": false,
     "task": false
    }
   },
   "source": [
    "### CONTINUE FROM HERE"
   ]
  },
  {
   "cell_type": "code",
   "execution_count": 44,
   "metadata": {
    "deletable": false,
    "editable": false,
    "nbgrader": {
     "cell_type": "code",
     "checksum": "16d2f7c0f51cc4405b3dd3aaadd544d5",
     "grade": true,
     "grade_id": "cell-1a1618a6a3f87509",
     "locked": true,
     "points": 2,
     "schema_version": 3,
     "solution": false,
     "task": false
    }
   },
   "outputs": [],
   "source": [
    "### BEGIN TESTS\n",
    "assert spotify.shape == (101939, 31)\n",
    "        \n",
    "### END TESTS"
   ]
  },
  {
   "cell_type": "markdown",
   "metadata": {
    "deletable": false,
    "editable": false,
    "nbgrader": {
     "cell_type": "markdown",
     "checksum": "3d286f0cdaa3cc02b0dfaec06539ac27",
     "grade": false,
     "grade_id": "cell-d832a4ced648b8df",
     "locked": true,
     "schema_version": 3,
     "solution": false,
     "task": false
    }
   },
   "source": [
    "### Q4\n",
    ">- Use `.shape` to tell me how many rows and columns are in the dataframe\n",
    ">- Store the number of rows in a variable called `rows`\n",
    ">- Store the number of columns in a variable called `cols`\n",
    ">- Look at the first 3 rows of data"
   ]
  },
  {
   "cell_type": "code",
   "execution_count": 102,
   "metadata": {
    "deletable": false,
    "nbgrader": {
     "cell_type": "code",
     "checksum": "7251471b146e4922810e99a1143a15a0",
     "grade": false,
     "grade_id": "cell-077cb637072c1ae2",
     "locked": false,
     "schema_version": 3,
     "solution": true,
     "task": false
    }
   },
   "outputs": [
    {
     "name": "stdout",
     "output_type": "stream",
     "text": [
      "(101939, 31)\n",
      "101939 31\n"
     ]
    }
   ],
   "source": [
    "print(dat.shape)\n",
    "spotify.head(3)\n",
    "\n",
    "rows = spotify.shape[0]\n",
    "columns =spotify.shape[1]\n",
    "\n",
    "\n",
    "print(rows, columns)"
   ]
  },
  {
   "cell_type": "code",
   "execution_count": null,
   "metadata": {
    "deletable": false,
    "editable": false,
    "nbgrader": {
     "cell_type": "code",
     "checksum": "629151a8194b2fc40b6fb984110ebbc5",
     "grade": true,
     "grade_id": "cell-3f382313464de68d",
     "locked": true,
     "points": 2,
     "schema_version": 3,
     "solution": false,
     "task": false
    }
   },
   "outputs": [],
   "source": []
  },
  {
   "cell_type": "markdown",
   "metadata": {
    "deletable": false,
    "editable": false,
    "nbgrader": {
     "cell_type": "markdown",
     "checksum": "b57eada41bb427f9d104676f1af810d8",
     "grade": false,
     "grade_id": "cell-de1d7e16e8062a2a",
     "locked": true,
     "schema_version": 3,
     "solution": false,
     "task": false
    }
   },
   "source": [
    "### Q5\n",
    ">- How many null values are in each column?"
   ]
  },
  {
   "cell_type": "code",
   "execution_count": 66,
   "metadata": {
    "deletable": false,
    "nbgrader": {
     "cell_type": "code",
     "checksum": "ef66fffb7b2683243f7b81463fcf7f77",
     "grade": false,
     "grade_id": "cell-c24e4fd80bbd175e",
     "locked": false,
     "schema_version": 3,
     "solution": true,
     "task": false
    }
   },
   "outputs": [
    {
     "data": {
      "text/plain": [
       "acousticness         0\n",
       "album_id             0\n",
       "analysis_url         0\n",
       "artists_id           0\n",
       "available_markets    0\n",
       "country              0\n",
       "danceability         0\n",
       "disc_number          0\n",
       "duration_ms          0\n",
       "energy               0\n",
       "href                 0\n",
       "id                   0\n",
       "instrumentalness     0\n",
       "key                  0\n",
       "liveness             0\n",
       "loudness             0\n",
       "lyrics               0\n",
       "mode                 0\n",
       "name                 0\n",
       "playlist             0\n",
       "popularity           0\n",
       "preview_url          0\n",
       "speechiness          0\n",
       "tempo                0\n",
       "time_signature       0\n",
       "track_href           0\n",
       "track_name_prev      0\n",
       "track_number         0\n",
       "uri                  0\n",
       "valence              0\n",
       "type                 0\n",
       "dtype: int64"
      ]
     },
     "execution_count": 66,
     "metadata": {},
     "output_type": "execute_result"
    }
   ],
   "source": [
    "spotify.isnull().sum()\n"
   ]
  },
  {
   "cell_type": "code",
   "execution_count": null,
   "metadata": {
    "deletable": false,
    "editable": false,
    "nbgrader": {
     "cell_type": "code",
     "checksum": "d815352124784654344d205f480606f3",
     "grade": true,
     "grade_id": "cell-929c34bb92744e6c",
     "locked": true,
     "points": 3,
     "schema_version": 3,
     "solution": false,
     "task": false
    }
   },
   "outputs": [],
   "source": []
  },
  {
   "cell_type": "markdown",
   "metadata": {
    "deletable": false,
    "editable": false,
    "nbgrader": {
     "cell_type": "markdown",
     "checksum": "429e2bd3f1c453b5bf7b314fcfc57c06",
     "grade": false,
     "grade_id": "cell-8b61b01b7ee40261",
     "locked": true,
     "schema_version": 3,
     "solution": false,
     "task": false
    }
   },
   "source": [
    "### Q6\n",
    ">- Get the descriptive analytics for the entire dataframe\n",
    ">- Store the mean of `liveness` in a variable called `mean_liveness`\n",
    ">- HINT: Do this by filtering the dataframe, not by copy pasting the value from it"
   ]
  },
  {
   "cell_type": "code",
   "execution_count": 16,
   "metadata": {
    "deletable": false,
    "nbgrader": {
     "cell_type": "code",
     "checksum": "10e39382cd26c74293565c6feda0897e",
     "grade": false,
     "grade_id": "cell-542c39500e9a22c9",
     "locked": false,
     "schema_version": 3,
     "solution": true,
     "task": false
    }
   },
   "outputs": [
    {
     "data": {
      "text/plain": [
       "0.19764030645778108"
      ]
     },
     "execution_count": 16,
     "metadata": {},
     "output_type": "execute_result"
    }
   ],
   "source": [
    "#print(dat.describe())\n",
    "mean_liveness = dat.describe().loc['mean']['liveness']\n",
    "mean_liveness"
   ]
  },
  {
   "cell_type": "code",
   "execution_count": null,
   "metadata": {
    "deletable": false,
    "editable": false,
    "nbgrader": {
     "cell_type": "code",
     "checksum": "0c507e5eb2994c07effd6d68dc47c202",
     "grade": true,
     "grade_id": "cell-b2385ea487464de8",
     "locked": true,
     "points": 3,
     "schema_version": 3,
     "solution": false,
     "task": false
    }
   },
   "outputs": [],
   "source": [
    "### BEGIN HIDDEN TEST\n",
    "assert mean_liveness == spotify.describe().loc['mean']['liveness']\n",
    "### END HIDDEN TEST"
   ]
  },
  {
   "cell_type": "markdown",
   "metadata": {
    "deletable": false,
    "editable": false,
    "nbgrader": {
     "cell_type": "markdown",
     "checksum": "0bda5621a531d63783c19e1e08df52ac",
     "grade": false,
     "grade_id": "cell-a7102b5881fc6a2a",
     "locked": true,
     "schema_version": 3,
     "solution": false,
     "task": false
    }
   },
   "source": [
    "### Q7\n",
    ">- How many unique artists are there? Store the result in the variable `unique_artists`\n",
    ">- How many unique albums are there? Store the result in the variable `unique_albums`"
   ]
  },
  {
   "cell_type": "code",
   "execution_count": 74,
   "metadata": {
    "deletable": false,
    "nbgrader": {
     "cell_type": "code",
     "checksum": "2e337f89e3f60e49859bc526eff26038",
     "grade": false,
     "grade_id": "cell-ad404d52ccd4b2cb",
     "locked": false,
     "schema_version": 3,
     "solution": true,
     "task": false
    }
   },
   "outputs": [
    {
     "name": "stdout",
     "output_type": "stream",
     "text": [
      "54673\n"
     ]
    },
    {
     "data": {
      "text/plain": [
       "75503"
      ]
     },
     "execution_count": 74,
     "metadata": {},
     "output_type": "execute_result"
    }
   ],
   "source": [
    "unique_artists = spotify['artists_id'].nunique()\n",
    "unique_albums = spotify['album_id'].nunique()\n",
    "\n",
    "print(unique_artists)\n",
    "unique_albums"
   ]
  },
  {
   "cell_type": "code",
   "execution_count": null,
   "metadata": {
    "deletable": false,
    "editable": false,
    "nbgrader": {
     "cell_type": "code",
     "checksum": "140258e56e04b455fef9f0c8c2fcad84",
     "grade": true,
     "grade_id": "cell-a340ea16d763f9e8",
     "locked": true,
     "points": 3,
     "schema_version": 3,
     "solution": false,
     "task": false
    }
   },
   "outputs": [],
   "source": [
    "### BEGIN HIDDEN TEST\n",
    "assert unique_artists == 54673\n",
    "assert unique_albums == 75503\n",
    "### END HIDDEN TEST"
   ]
  },
  {
   "cell_type": "markdown",
   "metadata": {
    "deletable": false,
    "editable": false,
    "nbgrader": {
     "cell_type": "markdown",
     "checksum": "c761c33597d1621fed10da7893cc1fc5",
     "grade": false,
     "grade_id": "cell-b35ce57bbd590f04",
     "locked": true,
     "schema_version": 3,
     "solution": false,
     "task": false
    }
   },
   "source": [
    "### Q8\n",
    ">- What are the top 5 artists IDs based on count?\n",
    ">- Store this series in a variable called `top_5_artists`\n",
    ">- Make sure your series is ordered in Descending Order. Only include the top 5 `artists_ids`"
   ]
  },
  {
   "cell_type": "code",
   "execution_count": 84,
   "metadata": {
    "deletable": false,
    "nbgrader": {
     "cell_type": "code",
     "checksum": "b1097cb6a53243c4f4bc7558efc657a9",
     "grade": false,
     "grade_id": "cell-47bdd6122f44ca73",
     "locked": false,
     "schema_version": 3,
     "solution": true,
     "task": false
    }
   },
   "outputs": [
    {
     "data": {
      "text/plain": [
       "['0LyfQWJT6nXafLPZqxe9Of']    284\n",
       "['1l6d0RIxTL3JytlLGvWzYe']    251\n",
       "['0vLsqW05dyLvjuKKftAEGA']    180\n",
       "['49FYG2DSZqIVpCtoir2Upw']    162\n",
       "['3iiABQlNuezpR3DcrlyPoA']    158\n",
       "Name: artists_id, dtype: int64"
      ]
     },
     "execution_count": 84,
     "metadata": {},
     "output_type": "execute_result"
    }
   ],
   "source": [
    "top_5_artists = spotify['artists_id'].value_counts().sort_values(ascending = False)[0:5]\n",
    "\n",
    "top_5_artists"
   ]
  },
  {
   "cell_type": "code",
   "execution_count": null,
   "metadata": {
    "deletable": false,
    "editable": false,
    "nbgrader": {
     "cell_type": "code",
     "checksum": "c68ba191bc057efce96b4d9ebc80631d",
     "grade": true,
     "grade_id": "cell-a7bb41c85526c255",
     "locked": true,
     "points": 3,
     "schema_version": 3,
     "solution": false,
     "task": false
    }
   },
   "outputs": [],
   "source": [
    "### BEGIN HIDDEN TEST\n",
    "assert top_5_artists[0] == 284\n",
    "assert top_5_artists[-1] == 158\n",
    "### END HIDDEN TEST"
   ]
  },
  {
   "cell_type": "markdown",
   "metadata": {
    "deletable": false,
    "editable": false,
    "nbgrader": {
     "cell_type": "markdown",
     "checksum": "b6b273c830ac35cb8dcb1e2e5fbfeb35",
     "grade": false,
     "grade_id": "cell-fc6da1fa2da2525e",
     "locked": true,
     "schema_version": 3,
     "solution": false,
     "task": false
    }
   },
   "source": [
    "### Q9\n",
    ">- Create a dataframe that only has data from the country `AR`\n",
    ">- Name your new dataframe `spotify_ar`\n",
    ">- Store the number of columns in a variable called `n_cols`\n",
    ">- Store the number of rows in a variable called `n_rows`"
   ]
  },
  {
   "cell_type": "code",
   "execution_count": 99,
   "metadata": {
    "deletable": false,
    "nbgrader": {
     "cell_type": "code",
     "checksum": "98076acab97e70949928c40b86431508",
     "grade": false,
     "grade_id": "cell-dffb6e1b3f237be8",
     "locked": false,
     "schema_version": 3,
     "solution": true,
     "task": false
    }
   },
   "outputs": [
    {
     "name": "stdout",
     "output_type": "stream",
     "text": [
      "(50437, 31)\n"
     ]
    },
    {
     "data": {
      "text/plain": [
       "50437"
      ]
     },
     "execution_count": 99,
     "metadata": {},
     "output_type": "execute_result"
    }
   ],
   "source": [
    "spotify_ar = pd.DataFrame(spotify[spotify['country'] == 'AR'])\n",
    "\n",
    "print(spotify_ar.shape)\n",
    "\n",
    "n_cols = spotify_ar.shape[1]\n",
    "n_rows = spotify_ar.shape[0]\n",
    "\n",
    "\n",
    "\n",
    "\n"
   ]
  },
  {
   "cell_type": "code",
   "execution_count": null,
   "metadata": {
    "deletable": false,
    "editable": false,
    "nbgrader": {
     "cell_type": "code",
     "checksum": "1e98bd039236403de38e8e124028d239",
     "grade": true,
     "grade_id": "cell-66709d13dbbb54bc",
     "locked": true,
     "points": 3,
     "schema_version": 3,
     "solution": false,
     "task": false
    }
   },
   "outputs": [],
   "source": [
    "### BEGIN HIDDEN TEST\n",
    "assert n_rows == 50437\n",
    "assert n_cols == 31\n",
    "### END HIDDEN TEST"
   ]
  },
  {
   "cell_type": "markdown",
   "metadata": {
    "deletable": false,
    "editable": false,
    "nbgrader": {
     "cell_type": "markdown",
     "checksum": "020743ef4f885060f74007d130fb8353",
     "grade": false,
     "grade_id": "cell-4e2d68af19a1f21b",
     "locked": true,
     "schema_version": 3,
     "solution": false,
     "task": false
    }
   },
   "source": [
    "### Q10\n",
    ">- Use `spotify` (not `spotify_ar`)\n",
    ">- What is the count, average, median, max, and minimum duration based on track number?\n",
    ">- HINT: use `.agg()`\n",
    ">- Store this new dataframe in a variable called `track_stats`"
   ]
  },
  {
   "cell_type": "code",
   "execution_count": 97,
   "metadata": {
    "deletable": false,
    "nbgrader": {
     "cell_type": "code",
     "checksum": "af19986237882554a57a12395161b200",
     "grade": false,
     "grade_id": "cell-898472a6b8a6721d",
     "locked": false,
     "schema_version": 3,
     "solution": true,
     "task": false
    }
   },
   "outputs": [
    {
     "data": {
      "text/html": [
       "<div>\n",
       "<style scoped>\n",
       "    .dataframe tbody tr th:only-of-type {\n",
       "        vertical-align: middle;\n",
       "    }\n",
       "\n",
       "    .dataframe tbody tr th {\n",
       "        vertical-align: top;\n",
       "    }\n",
       "\n",
       "    .dataframe thead th {\n",
       "        text-align: right;\n",
       "    }\n",
       "</style>\n",
       "<table border=\"1\" class=\"dataframe\">\n",
       "  <thead>\n",
       "    <tr style=\"text-align: right;\">\n",
       "      <th></th>\n",
       "      <th>count</th>\n",
       "      <th>mean</th>\n",
       "      <th>median</th>\n",
       "      <th>max</th>\n",
       "      <th>min</th>\n",
       "    </tr>\n",
       "    <tr>\n",
       "      <th>track_number</th>\n",
       "      <th></th>\n",
       "      <th></th>\n",
       "      <th></th>\n",
       "      <th></th>\n",
       "      <th></th>\n",
       "    </tr>\n",
       "  </thead>\n",
       "  <tbody>\n",
       "    <tr>\n",
       "      <th>1.0</th>\n",
       "      <td>45300</td>\n",
       "      <td>237628.788830</td>\n",
       "      <td>211086.5</td>\n",
       "      <td>5505831.0</td>\n",
       "      <td>4000.0</td>\n",
       "    </tr>\n",
       "    <tr>\n",
       "      <th>2.0</th>\n",
       "      <td>10559</td>\n",
       "      <td>267595.584620</td>\n",
       "      <td>227480.0</td>\n",
       "      <td>4057967.0</td>\n",
       "      <td>5400.0</td>\n",
       "    </tr>\n",
       "    <tr>\n",
       "      <th>3.0</th>\n",
       "      <td>7715</td>\n",
       "      <td>266678.384057</td>\n",
       "      <td>228240.0</td>\n",
       "      <td>4342462.0</td>\n",
       "      <td>3500.0</td>\n",
       "    </tr>\n",
       "    <tr>\n",
       "      <th>4.0</th>\n",
       "      <td>6057</td>\n",
       "      <td>273238.258049</td>\n",
       "      <td>229436.0</td>\n",
       "      <td>4373004.0</td>\n",
       "      <td>5375.0</td>\n",
       "    </tr>\n",
       "    <tr>\n",
       "      <th>5.0</th>\n",
       "      <td>4980</td>\n",
       "      <td>260390.310241</td>\n",
       "      <td>228720.0</td>\n",
       "      <td>3614407.0</td>\n",
       "      <td>4250.0</td>\n",
       "    </tr>\n",
       "    <tr>\n",
       "      <th>...</th>\n",
       "      <td>...</td>\n",
       "      <td>...</td>\n",
       "      <td>...</td>\n",
       "      <td>...</td>\n",
       "      <td>...</td>\n",
       "    </tr>\n",
       "    <tr>\n",
       "      <th>231.0</th>\n",
       "      <td>1</td>\n",
       "      <td>196680.000000</td>\n",
       "      <td>196680.0</td>\n",
       "      <td>196680.0</td>\n",
       "      <td>196680.0</td>\n",
       "    </tr>\n",
       "    <tr>\n",
       "      <th>244.0</th>\n",
       "      <td>1</td>\n",
       "      <td>146680.000000</td>\n",
       "      <td>146680.0</td>\n",
       "      <td>146680.0</td>\n",
       "      <td>146680.0</td>\n",
       "    </tr>\n",
       "    <tr>\n",
       "      <th>327.0</th>\n",
       "      <td>1</td>\n",
       "      <td>17244.000000</td>\n",
       "      <td>17244.0</td>\n",
       "      <td>17244.0</td>\n",
       "      <td>17244.0</td>\n",
       "    </tr>\n",
       "    <tr>\n",
       "      <th>431.0</th>\n",
       "      <td>1</td>\n",
       "      <td>153293.000000</td>\n",
       "      <td>153293.0</td>\n",
       "      <td>153293.0</td>\n",
       "      <td>153293.0</td>\n",
       "    </tr>\n",
       "    <tr>\n",
       "      <th>655.0</th>\n",
       "      <td>1</td>\n",
       "      <td>12899.000000</td>\n",
       "      <td>12899.0</td>\n",
       "      <td>12899.0</td>\n",
       "      <td>12899.0</td>\n",
       "    </tr>\n",
       "  </tbody>\n",
       "</table>\n",
       "<p>119 rows × 5 columns</p>\n",
       "</div>"
      ],
      "text/plain": [
       "              count           mean    median        max       min\n",
       "track_number                                                     \n",
       "1.0           45300  237628.788830  211086.5  5505831.0    4000.0\n",
       "2.0           10559  267595.584620  227480.0  4057967.0    5400.0\n",
       "3.0            7715  266678.384057  228240.0  4342462.0    3500.0\n",
       "4.0            6057  273238.258049  229436.0  4373004.0    5375.0\n",
       "5.0            4980  260390.310241  228720.0  3614407.0    4250.0\n",
       "...             ...            ...       ...        ...       ...\n",
       "231.0             1  196680.000000  196680.0   196680.0  196680.0\n",
       "244.0             1  146680.000000  146680.0   146680.0  146680.0\n",
       "327.0             1   17244.000000   17244.0    17244.0   17244.0\n",
       "431.0             1  153293.000000  153293.0   153293.0  153293.0\n",
       "655.0             1   12899.000000   12899.0    12899.0   12899.0\n",
       "\n",
       "[119 rows x 5 columns]"
      ]
     },
     "execution_count": 97,
     "metadata": {},
     "output_type": "execute_result"
    }
   ],
   "source": [
    "track_stats = spotify.groupby('track_number').duration_ms.agg(['count','mean','median','max','min'])\n",
    "track_stats"
   ]
  },
  {
   "cell_type": "code",
   "execution_count": null,
   "metadata": {
    "deletable": false,
    "editable": false,
    "nbgrader": {
     "cell_type": "code",
     "checksum": "662ca81281fd4c73f5c5bd903247ca3c",
     "grade": true,
     "grade_id": "cell-a91dcfef5b191c30",
     "locked": true,
     "points": 3,
     "schema_version": 3,
     "solution": false,
     "task": false
    }
   },
   "outputs": [],
   "source": [
    "### BEGIN HIDDEN TEST\n",
    "assert track_stats.shape[0] == 119\n",
    "assert track_stats.shape[1] == 5\n",
    "assert track_stats.loc[1.0]['count'] == 45300\n",
    "### END HIDDEN TEST"
   ]
  },
  {
   "cell_type": "markdown",
   "metadata": {
    "deletable": false,
    "editable": false,
    "nbgrader": {
     "cell_type": "markdown",
     "checksum": "8de4c90423a8f600d5c2e527158f95ae",
     "grade": false,
     "grade_id": "cell-dd106a238368454c",
     "locked": true,
     "schema_version": 3,
     "solution": false,
     "task": false
    }
   },
   "source": [
    "### Q11\n",
    ">- From the total spotify data, make a dataframe called `wtf` based on the following rules:\n",
    ">- Has records with `acousticness` >= .9 and `energy` >= 1\n",
    ">- OR \n",
    ">- Has records with `danceability` <= 0 and `loudness` >= -3\n"
   ]
  },
  {
   "cell_type": "code",
   "execution_count": 140,
   "metadata": {
    "deletable": false,
    "nbgrader": {
     "cell_type": "code",
     "checksum": "6fc7ebea0b325c3f67fdb2428df67c0a",
     "grade": false,
     "grade_id": "cell-3dc398f87e664a84",
     "locked": false,
     "schema_version": 3,
     "solution": true,
     "task": false
    }
   },
   "outputs": [
    {
     "data": {
      "text/html": [
       "<div>\n",
       "<style scoped>\n",
       "    .dataframe tbody tr th:only-of-type {\n",
       "        vertical-align: middle;\n",
       "    }\n",
       "\n",
       "    .dataframe tbody tr th {\n",
       "        vertical-align: top;\n",
       "    }\n",
       "\n",
       "    .dataframe thead th {\n",
       "        text-align: right;\n",
       "    }\n",
       "</style>\n",
       "<table border=\"1\" class=\"dataframe\">\n",
       "  <thead>\n",
       "    <tr style=\"text-align: right;\">\n",
       "      <th></th>\n",
       "      <th>acousticness</th>\n",
       "      <th>album_id</th>\n",
       "      <th>analysis_url</th>\n",
       "      <th>artists_id</th>\n",
       "      <th>available_markets</th>\n",
       "      <th>country</th>\n",
       "      <th>danceability</th>\n",
       "      <th>disc_number</th>\n",
       "      <th>duration_ms</th>\n",
       "      <th>energy</th>\n",
       "      <th>...</th>\n",
       "      <th>preview_url</th>\n",
       "      <th>speechiness</th>\n",
       "      <th>tempo</th>\n",
       "      <th>time_signature</th>\n",
       "      <th>track_href</th>\n",
       "      <th>track_name_prev</th>\n",
       "      <th>track_number</th>\n",
       "      <th>uri</th>\n",
       "      <th>valence</th>\n",
       "      <th>type</th>\n",
       "    </tr>\n",
       "  </thead>\n",
       "  <tbody>\n",
       "    <tr>\n",
       "      <th>5</th>\n",
       "      <td>0.971</td>\n",
       "      <td>7CCwkPweMxKq8yWkVerH6T</td>\n",
       "      <td>https://api.spotify.com/v1/audio-analysis/4PrA...</td>\n",
       "      <td>['3kzwYV3OCB010YfXMF0Avt']</td>\n",
       "      <td>['AE', 'AR', 'BH', 'BO', 'BR', 'CL', 'CO', 'CR...</td>\n",
       "      <td>BE</td>\n",
       "      <td>0.367</td>\n",
       "      <td>1.0</td>\n",
       "      <td>183653.0</td>\n",
       "      <td>0.3490</td>\n",
       "      <td>...</td>\n",
       "      <td>https://p.scdn.co/mp3-preview/10a9607c178fe1ea...</td>\n",
       "      <td>0.0268</td>\n",
       "      <td>81.850</td>\n",
       "      <td>4.0</td>\n",
       "      <td>https://api.spotify.com/v1/tracks/4PrAZpH9Ic7S...</td>\n",
       "      <td>track_23</td>\n",
       "      <td>8.0</td>\n",
       "      <td>spotify:track:4PrAZpH9Ic7S47E78BN6E4</td>\n",
       "      <td>0.1920</td>\n",
       "      <td>track</td>\n",
       "    </tr>\n",
       "    <tr>\n",
       "      <th>54</th>\n",
       "      <td>0.920</td>\n",
       "      <td>6hkfojKabPHetxgdYAAfWP</td>\n",
       "      <td>https://api.spotify.com/v1/audio-analysis/5J0a...</td>\n",
       "      <td>['14Ccdm516mXvMqVywHIcj7']</td>\n",
       "      <td>['AD', 'AE', 'AR', 'AT', 'AU', 'BE', 'BG', 'BH...</td>\n",
       "      <td>BE</td>\n",
       "      <td>0.595</td>\n",
       "      <td>1.0</td>\n",
       "      <td>158827.0</td>\n",
       "      <td>0.5950</td>\n",
       "      <td>...</td>\n",
       "      <td>https://p.scdn.co/mp3-preview/3d9724b9eb4efb5a...</td>\n",
       "      <td>0.8210</td>\n",
       "      <td>137.297</td>\n",
       "      <td>4.0</td>\n",
       "      <td>https://api.spotify.com/v1/tracks/5J0aH9sTGhYT...</td>\n",
       "      <td>track_65</td>\n",
       "      <td>2.0</td>\n",
       "      <td>spotify:track:5J0aH9sTGhYTW6M2vuwk5l</td>\n",
       "      <td>0.9310</td>\n",
       "      <td>track</td>\n",
       "    </tr>\n",
       "    <tr>\n",
       "      <th>73</th>\n",
       "      <td>0.922</td>\n",
       "      <td>5bFHtYB0sIpr08zR4TP9A5</td>\n",
       "      <td>https://api.spotify.com/v1/audio-analysis/2iE7...</td>\n",
       "      <td>['1lN38LK0vbGp5Q2CQqahqi']</td>\n",
       "      <td>['AD', 'AE', 'AR', 'AT', 'AU', 'BE', 'BG', 'BH...</td>\n",
       "      <td>BE</td>\n",
       "      <td>0.582</td>\n",
       "      <td>1.0</td>\n",
       "      <td>342000.0</td>\n",
       "      <td>0.2600</td>\n",
       "      <td>...</td>\n",
       "      <td>https://p.scdn.co/mp3-preview/ef8a88ea131026a9...</td>\n",
       "      <td>0.0607</td>\n",
       "      <td>79.552</td>\n",
       "      <td>4.0</td>\n",
       "      <td>https://api.spotify.com/v1/tracks/2iE7T5nZVaKo...</td>\n",
       "      <td>track_5</td>\n",
       "      <td>1.0</td>\n",
       "      <td>spotify:track:2iE7T5nZVaKoFcaXVz6M01</td>\n",
       "      <td>0.4460</td>\n",
       "      <td>track</td>\n",
       "    </tr>\n",
       "    <tr>\n",
       "      <th>101</th>\n",
       "      <td>0.922</td>\n",
       "      <td>4LWaaqC9aAr5OhNsWqOZ3J</td>\n",
       "      <td>https://api.spotify.com/v1/audio-analysis/5dLo...</td>\n",
       "      <td>['5A7ayYKcSsydP31DqS4vQW']</td>\n",
       "      <td>['AD', 'AE', 'AR', 'AT', 'AU', 'BE', 'BG', 'BH...</td>\n",
       "      <td>BE</td>\n",
       "      <td>0.544</td>\n",
       "      <td>1.0</td>\n",
       "      <td>370120.0</td>\n",
       "      <td>0.1510</td>\n",
       "      <td>...</td>\n",
       "      <td>https://p.scdn.co/mp3-preview/c4f1d596a00dfc33...</td>\n",
       "      <td>0.0313</td>\n",
       "      <td>129.941</td>\n",
       "      <td>3.0</td>\n",
       "      <td>https://api.spotify.com/v1/tracks/5dLoAn6kUOAl...</td>\n",
       "      <td>track_51</td>\n",
       "      <td>8.0</td>\n",
       "      <td>spotify:track:5dLoAn6kUOAlO6Aolf9rey</td>\n",
       "      <td>0.3070</td>\n",
       "      <td>track</td>\n",
       "    </tr>\n",
       "    <tr>\n",
       "      <th>151</th>\n",
       "      <td>0.916</td>\n",
       "      <td>7FEf6z8xu33s2hVp7sK0gv</td>\n",
       "      <td>https://api.spotify.com/v1/audio-analysis/0ZO4...</td>\n",
       "      <td>['0i4M8k5IcQpiEH6nBMdfPT']</td>\n",
       "      <td>['AD', 'AE', 'AR', 'AT', 'AU', 'BE', 'BG', 'BH...</td>\n",
       "      <td>BE</td>\n",
       "      <td>0.524</td>\n",
       "      <td>1.0</td>\n",
       "      <td>117391.0</td>\n",
       "      <td>0.1960</td>\n",
       "      <td>...</td>\n",
       "      <td>https://p.scdn.co/mp3-preview/866cf3c6cb1cf959...</td>\n",
       "      <td>0.0357</td>\n",
       "      <td>139.712</td>\n",
       "      <td>4.0</td>\n",
       "      <td>https://api.spotify.com/v1/tracks/0ZO474keYWlD...</td>\n",
       "      <td>track_2</td>\n",
       "      <td>1.0</td>\n",
       "      <td>spotify:track:0ZO474keYWlDyDPMNb7a8X</td>\n",
       "      <td>0.1490</td>\n",
       "      <td>track</td>\n",
       "    </tr>\n",
       "    <tr>\n",
       "      <th>...</th>\n",
       "      <td>...</td>\n",
       "      <td>...</td>\n",
       "      <td>...</td>\n",
       "      <td>...</td>\n",
       "      <td>...</td>\n",
       "      <td>...</td>\n",
       "      <td>...</td>\n",
       "      <td>...</td>\n",
       "      <td>...</td>\n",
       "      <td>...</td>\n",
       "      <td>...</td>\n",
       "      <td>...</td>\n",
       "      <td>...</td>\n",
       "      <td>...</td>\n",
       "      <td>...</td>\n",
       "      <td>...</td>\n",
       "      <td>...</td>\n",
       "      <td>...</td>\n",
       "      <td>...</td>\n",
       "      <td>...</td>\n",
       "      <td>...</td>\n",
       "    </tr>\n",
       "    <tr>\n",
       "      <th>101895</th>\n",
       "      <td>0.973</td>\n",
       "      <td>1c5EcxSFk9Fok943GTAwFn</td>\n",
       "      <td>https://api.spotify.com/v1/audio-analysis/5AUH...</td>\n",
       "      <td>['1A6tzufDDqCP4qRnReIfhX']</td>\n",
       "      <td>['AD', 'AE', 'AR', 'AT', 'AU', 'BE', 'BG', 'BH...</td>\n",
       "      <td>AR</td>\n",
       "      <td>0.193</td>\n",
       "      <td>1.0</td>\n",
       "      <td>266000.0</td>\n",
       "      <td>0.1250</td>\n",
       "      <td>...</td>\n",
       "      <td>https://p.scdn.co/mp3-preview/e25d850f2cff3139...</td>\n",
       "      <td>0.0412</td>\n",
       "      <td>134.908</td>\n",
       "      <td>3.0</td>\n",
       "      <td>https://api.spotify.com/v1/tracks/5AUHJrmEjIQm...</td>\n",
       "      <td>track_37</td>\n",
       "      <td>1.0</td>\n",
       "      <td>spotify:track:5AUHJrmEjIQmILBzNYm9kk</td>\n",
       "      <td>0.0533</td>\n",
       "      <td>track</td>\n",
       "    </tr>\n",
       "    <tr>\n",
       "      <th>101896</th>\n",
       "      <td>0.990</td>\n",
       "      <td>3Zs6jLiLhNzQcwJFHq677C</td>\n",
       "      <td>https://api.spotify.com/v1/audio-analysis/3m1h...</td>\n",
       "      <td>['0TOvt96p0iReJMOGxtV5ub']</td>\n",
       "      <td>['AD', 'AE', 'AR', 'AT', 'AU', 'BE', 'BG', 'BH...</td>\n",
       "      <td>AR</td>\n",
       "      <td>0.438</td>\n",
       "      <td>1.0</td>\n",
       "      <td>184000.0</td>\n",
       "      <td>0.0264</td>\n",
       "      <td>...</td>\n",
       "      <td>https://p.scdn.co/mp3-preview/edbdd39c2f16011a...</td>\n",
       "      <td>0.0393</td>\n",
       "      <td>124.684</td>\n",
       "      <td>4.0</td>\n",
       "      <td>https://api.spotify.com/v1/tracks/3m1hoXw6tRHX...</td>\n",
       "      <td>track_47</td>\n",
       "      <td>3.0</td>\n",
       "      <td>spotify:track:3m1hoXw6tRHXRqK37bNbax</td>\n",
       "      <td>0.2530</td>\n",
       "      <td>track</td>\n",
       "    </tr>\n",
       "    <tr>\n",
       "      <th>101898</th>\n",
       "      <td>0.937</td>\n",
       "      <td>0EeoPgnFgCP1TNJsBdelJ7</td>\n",
       "      <td>https://api.spotify.com/v1/audio-analysis/22KK...</td>\n",
       "      <td>['03aCAywaPegfs9yvJ66eCp']</td>\n",
       "      <td>['AD', 'AE', 'AR', 'AT', 'AU', 'BE', 'BG', 'BH...</td>\n",
       "      <td>AR</td>\n",
       "      <td>0.319</td>\n",
       "      <td>1.0</td>\n",
       "      <td>118321.0</td>\n",
       "      <td>0.1220</td>\n",
       "      <td>...</td>\n",
       "      <td>https://p.scdn.co/mp3-preview/ff729127ac405c5b...</td>\n",
       "      <td>0.0373</td>\n",
       "      <td>70.263</td>\n",
       "      <td>4.0</td>\n",
       "      <td>https://api.spotify.com/v1/tracks/22KKy6ftT0i4...</td>\n",
       "      <td>track_49</td>\n",
       "      <td>1.0</td>\n",
       "      <td>spotify:track:22KKy6ftT0i4nyGNCbwc1B</td>\n",
       "      <td>0.2140</td>\n",
       "      <td>track</td>\n",
       "    </tr>\n",
       "    <tr>\n",
       "      <th>101899</th>\n",
       "      <td>0.906</td>\n",
       "      <td>119PlPHpuUWF8DYrQrjVHe</td>\n",
       "      <td>https://api.spotify.com/v1/audio-analysis/2oBe...</td>\n",
       "      <td>['2eDGCAUPtznGnGKQ2uP3GZ']</td>\n",
       "      <td>['AD', 'AE', 'AR', 'AT', 'AU', 'BE', 'BG', 'BH...</td>\n",
       "      <td>AR</td>\n",
       "      <td>0.127</td>\n",
       "      <td>1.0</td>\n",
       "      <td>168378.0</td>\n",
       "      <td>0.2150</td>\n",
       "      <td>...</td>\n",
       "      <td>https://p.scdn.co/mp3-preview/ef1b0502f28d02e4...</td>\n",
       "      <td>0.0351</td>\n",
       "      <td>88.382</td>\n",
       "      <td>4.0</td>\n",
       "      <td>https://api.spotify.com/v1/tracks/2oBeDHORDq9Z...</td>\n",
       "      <td>track_52</td>\n",
       "      <td>5.0</td>\n",
       "      <td>spotify:track:2oBeDHORDq9ZeQnuygW7jZ</td>\n",
       "      <td>0.0541</td>\n",
       "      <td>track</td>\n",
       "    </tr>\n",
       "    <tr>\n",
       "      <th>101900</th>\n",
       "      <td>0.920</td>\n",
       "      <td>6LaSiuWQ4coE2tdhgeIJxx</td>\n",
       "      <td>https://api.spotify.com/v1/audio-analysis/45Zx...</td>\n",
       "      <td>['7l76D4b9qcmJjIO5Me5tlC']</td>\n",
       "      <td>['AD', 'AE', 'AR', 'AT', 'AU', 'BE', 'BG', 'BH...</td>\n",
       "      <td>AR</td>\n",
       "      <td>0.200</td>\n",
       "      <td>1.0</td>\n",
       "      <td>158621.0</td>\n",
       "      <td>0.1030</td>\n",
       "      <td>...</td>\n",
       "      <td>https://p.scdn.co/mp3-preview/a9c71111b65291a4...</td>\n",
       "      <td>0.0393</td>\n",
       "      <td>116.905</td>\n",
       "      <td>5.0</td>\n",
       "      <td>https://api.spotify.com/v1/tracks/45ZxIgWbzmdU...</td>\n",
       "      <td>track_54</td>\n",
       "      <td>1.0</td>\n",
       "      <td>spotify:track:45ZxIgWbzmdUnK8ZtKoUtm</td>\n",
       "      <td>0.0665</td>\n",
       "      <td>track</td>\n",
       "    </tr>\n",
       "  </tbody>\n",
       "</table>\n",
       "<p>9832 rows × 31 columns</p>\n",
       "</div>"
      ],
      "text/plain": [
       "        acousticness                album_id  \\\n",
       "5              0.971  7CCwkPweMxKq8yWkVerH6T   \n",
       "54             0.920  6hkfojKabPHetxgdYAAfWP   \n",
       "73             0.922  5bFHtYB0sIpr08zR4TP9A5   \n",
       "101            0.922  4LWaaqC9aAr5OhNsWqOZ3J   \n",
       "151            0.916  7FEf6z8xu33s2hVp7sK0gv   \n",
       "...              ...                     ...   \n",
       "101895         0.973  1c5EcxSFk9Fok943GTAwFn   \n",
       "101896         0.990  3Zs6jLiLhNzQcwJFHq677C   \n",
       "101898         0.937  0EeoPgnFgCP1TNJsBdelJ7   \n",
       "101899         0.906  119PlPHpuUWF8DYrQrjVHe   \n",
       "101900         0.920  6LaSiuWQ4coE2tdhgeIJxx   \n",
       "\n",
       "                                             analysis_url  \\\n",
       "5       https://api.spotify.com/v1/audio-analysis/4PrA...   \n",
       "54      https://api.spotify.com/v1/audio-analysis/5J0a...   \n",
       "73      https://api.spotify.com/v1/audio-analysis/2iE7...   \n",
       "101     https://api.spotify.com/v1/audio-analysis/5dLo...   \n",
       "151     https://api.spotify.com/v1/audio-analysis/0ZO4...   \n",
       "...                                                   ...   \n",
       "101895  https://api.spotify.com/v1/audio-analysis/5AUH...   \n",
       "101896  https://api.spotify.com/v1/audio-analysis/3m1h...   \n",
       "101898  https://api.spotify.com/v1/audio-analysis/22KK...   \n",
       "101899  https://api.spotify.com/v1/audio-analysis/2oBe...   \n",
       "101900  https://api.spotify.com/v1/audio-analysis/45Zx...   \n",
       "\n",
       "                        artists_id  \\\n",
       "5       ['3kzwYV3OCB010YfXMF0Avt']   \n",
       "54      ['14Ccdm516mXvMqVywHIcj7']   \n",
       "73      ['1lN38LK0vbGp5Q2CQqahqi']   \n",
       "101     ['5A7ayYKcSsydP31DqS4vQW']   \n",
       "151     ['0i4M8k5IcQpiEH6nBMdfPT']   \n",
       "...                            ...   \n",
       "101895  ['1A6tzufDDqCP4qRnReIfhX']   \n",
       "101896  ['0TOvt96p0iReJMOGxtV5ub']   \n",
       "101898  ['03aCAywaPegfs9yvJ66eCp']   \n",
       "101899  ['2eDGCAUPtznGnGKQ2uP3GZ']   \n",
       "101900  ['7l76D4b9qcmJjIO5Me5tlC']   \n",
       "\n",
       "                                        available_markets country  \\\n",
       "5       ['AE', 'AR', 'BH', 'BO', 'BR', 'CL', 'CO', 'CR...      BE   \n",
       "54      ['AD', 'AE', 'AR', 'AT', 'AU', 'BE', 'BG', 'BH...      BE   \n",
       "73      ['AD', 'AE', 'AR', 'AT', 'AU', 'BE', 'BG', 'BH...      BE   \n",
       "101     ['AD', 'AE', 'AR', 'AT', 'AU', 'BE', 'BG', 'BH...      BE   \n",
       "151     ['AD', 'AE', 'AR', 'AT', 'AU', 'BE', 'BG', 'BH...      BE   \n",
       "...                                                   ...     ...   \n",
       "101895  ['AD', 'AE', 'AR', 'AT', 'AU', 'BE', 'BG', 'BH...      AR   \n",
       "101896  ['AD', 'AE', 'AR', 'AT', 'AU', 'BE', 'BG', 'BH...      AR   \n",
       "101898  ['AD', 'AE', 'AR', 'AT', 'AU', 'BE', 'BG', 'BH...      AR   \n",
       "101899  ['AD', 'AE', 'AR', 'AT', 'AU', 'BE', 'BG', 'BH...      AR   \n",
       "101900  ['AD', 'AE', 'AR', 'AT', 'AU', 'BE', 'BG', 'BH...      AR   \n",
       "\n",
       "        danceability  disc_number  duration_ms  energy  ...  \\\n",
       "5              0.367          1.0     183653.0  0.3490  ...   \n",
       "54             0.595          1.0     158827.0  0.5950  ...   \n",
       "73             0.582          1.0     342000.0  0.2600  ...   \n",
       "101            0.544          1.0     370120.0  0.1510  ...   \n",
       "151            0.524          1.0     117391.0  0.1960  ...   \n",
       "...              ...          ...          ...     ...  ...   \n",
       "101895         0.193          1.0     266000.0  0.1250  ...   \n",
       "101896         0.438          1.0     184000.0  0.0264  ...   \n",
       "101898         0.319          1.0     118321.0  0.1220  ...   \n",
       "101899         0.127          1.0     168378.0  0.2150  ...   \n",
       "101900         0.200          1.0     158621.0  0.1030  ...   \n",
       "\n",
       "                                              preview_url speechiness  \\\n",
       "5       https://p.scdn.co/mp3-preview/10a9607c178fe1ea...      0.0268   \n",
       "54      https://p.scdn.co/mp3-preview/3d9724b9eb4efb5a...      0.8210   \n",
       "73      https://p.scdn.co/mp3-preview/ef8a88ea131026a9...      0.0607   \n",
       "101     https://p.scdn.co/mp3-preview/c4f1d596a00dfc33...      0.0313   \n",
       "151     https://p.scdn.co/mp3-preview/866cf3c6cb1cf959...      0.0357   \n",
       "...                                                   ...         ...   \n",
       "101895  https://p.scdn.co/mp3-preview/e25d850f2cff3139...      0.0412   \n",
       "101896  https://p.scdn.co/mp3-preview/edbdd39c2f16011a...      0.0393   \n",
       "101898  https://p.scdn.co/mp3-preview/ff729127ac405c5b...      0.0373   \n",
       "101899  https://p.scdn.co/mp3-preview/ef1b0502f28d02e4...      0.0351   \n",
       "101900  https://p.scdn.co/mp3-preview/a9c71111b65291a4...      0.0393   \n",
       "\n",
       "          tempo  time_signature  \\\n",
       "5        81.850             4.0   \n",
       "54      137.297             4.0   \n",
       "73       79.552             4.0   \n",
       "101     129.941             3.0   \n",
       "151     139.712             4.0   \n",
       "...         ...             ...   \n",
       "101895  134.908             3.0   \n",
       "101896  124.684             4.0   \n",
       "101898   70.263             4.0   \n",
       "101899   88.382             4.0   \n",
       "101900  116.905             5.0   \n",
       "\n",
       "                                               track_href  track_name_prev  \\\n",
       "5       https://api.spotify.com/v1/tracks/4PrAZpH9Ic7S...         track_23   \n",
       "54      https://api.spotify.com/v1/tracks/5J0aH9sTGhYT...         track_65   \n",
       "73      https://api.spotify.com/v1/tracks/2iE7T5nZVaKo...          track_5   \n",
       "101     https://api.spotify.com/v1/tracks/5dLoAn6kUOAl...         track_51   \n",
       "151     https://api.spotify.com/v1/tracks/0ZO474keYWlD...          track_2   \n",
       "...                                                   ...              ...   \n",
       "101895  https://api.spotify.com/v1/tracks/5AUHJrmEjIQm...         track_37   \n",
       "101896  https://api.spotify.com/v1/tracks/3m1hoXw6tRHX...         track_47   \n",
       "101898  https://api.spotify.com/v1/tracks/22KKy6ftT0i4...         track_49   \n",
       "101899  https://api.spotify.com/v1/tracks/2oBeDHORDq9Z...         track_52   \n",
       "101900  https://api.spotify.com/v1/tracks/45ZxIgWbzmdU...         track_54   \n",
       "\n",
       "       track_number                                   uri valence   type  \n",
       "5               8.0  spotify:track:4PrAZpH9Ic7S47E78BN6E4  0.1920  track  \n",
       "54              2.0  spotify:track:5J0aH9sTGhYTW6M2vuwk5l  0.9310  track  \n",
       "73              1.0  spotify:track:2iE7T5nZVaKoFcaXVz6M01  0.4460  track  \n",
       "101             8.0  spotify:track:5dLoAn6kUOAlO6Aolf9rey  0.3070  track  \n",
       "151             1.0  spotify:track:0ZO474keYWlDyDPMNb7a8X  0.1490  track  \n",
       "...             ...                                   ...     ...    ...  \n",
       "101895          1.0  spotify:track:5AUHJrmEjIQmILBzNYm9kk  0.0533  track  \n",
       "101896          3.0  spotify:track:3m1hoXw6tRHXRqK37bNbax  0.2530  track  \n",
       "101898          1.0  spotify:track:22KKy6ftT0i4nyGNCbwc1B  0.2140  track  \n",
       "101899          5.0  spotify:track:2oBeDHORDq9ZeQnuygW7jZ  0.0541  track  \n",
       "101900          1.0  spotify:track:45ZxIgWbzmdUnK8ZtKoUtm  0.0665  track  \n",
       "\n",
       "[9832 rows x 31 columns]"
      ]
     },
     "execution_count": 140,
     "metadata": {},
     "output_type": "execute_result"
    }
   ],
   "source": [
    "wtf = pd.DataFrame(spotify[spotify['acousticness'] >= .9])\n",
    "wtf"
   ]
  },
  {
   "cell_type": "code",
   "execution_count": null,
   "metadata": {
    "deletable": false,
    "editable": false,
    "nbgrader": {
     "cell_type": "code",
     "checksum": "b037c0c924a62a7b4f62c4e7d5c41e9d",
     "grade": true,
     "grade_id": "cell-ac893d61d314e8ee",
     "locked": true,
     "points": 4,
     "schema_version": 3,
     "solution": false,
     "task": false
    }
   },
   "outputs": [],
   "source": [
    "### BEGIN HIDDEN TEST\n",
    "assert wtf.shape[0] == 2\n",
    "assert wtf.loc[29344]['album_id'] == '4mFFAzJgZ9886aTrcJC62R'\n",
    "\n",
    "### END HIDDEN TEST"
   ]
  }
 ],
 "metadata": {
  "kernelspec": {
   "display_name": "Python 3",
   "language": "python",
   "name": "python3"
  },
  "language_info": {
   "codemirror_mode": {
    "name": "ipython",
    "version": 3
   },
   "file_extension": ".py",
   "mimetype": "text/x-python",
   "name": "python",
   "nbconvert_exporter": "python",
   "pygments_lexer": "ipython3",
   "version": "3.8.8"
  }
 },
 "nbformat": 4,
 "nbformat_minor": 4
}
