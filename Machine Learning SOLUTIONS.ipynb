{
 "cells": [
  {
   "cell_type": "markdown",
   "metadata": {},
   "source": [
    "# Crash course on Machine Learning"
   ]
  },
  {
   "cell_type": "markdown",
   "metadata": {},
   "source": [
    "### Supervised ML\n",
    ">- Supervised learning is a machine learning approach that’s defined by its use of labeled datasets. \n",
    ">- These datasets are designed to train or “supervise” algorithms into classifying data or predicting outcomes accurately. \n",
    ">- Using labeled inputs and outputs, the model can measure its accuracy and learn over time.\n",
    ">- Supervised ML can be broken into two categories: \n",
    ">>- Classification problems:\n",
    ">>>- Use an algorithm to accurately assign test data into specific categories, such as separating apples from oranges. Or, in the real world, supervised learning algorithms can be used to classify spam in a separate folder from your inbox. Linear classifiers, support vector machines, decision trees and random forest are all common types of classification algorithms.\n",
    ">>-Regression:\n",
    ">>>- Uses an algorithm to understand the relationship between dependent and independent variables. Regression models are helpful for predicting numerical values based on different data points, such as sales revenue projections for a given business. Some popular regression algorithms are linear regression, logistic regression and polynomial regression."
   ]
  },
  {
   "cell_type": "markdown",
   "metadata": {},
   "source": [
    "### Unsupervised ML\n",
    ">- Unsupervised learning uses machine learning algorithms to analyze and cluster unlabeled data sets. \n",
    ">- These algorithms discover hidden patterns in data without the need for human intervention (hence, they are “unsupervised”).\n",
    ">- Unsupervised learning models are used for three main tasks: \n",
    ">>- Clustering: \n",
    ">>>- Data mining technique for grouping unlabeled data based on their similarities or differences. \n",
    ">>>- For example, K-means clustering algorithms assign similar data points into groups, where the K value represents the size of the grouping and granularity. \n",
    ">>>- This technique is helpful for market segmentation, image compression, etc.\n",
    ">>- Association:\n",
    ">>>- Uses different rules to find relationships between variables in a given dataset. \n",
    ">>>- These methods are frequently used for market basket analysis and recommendation engines, along the lines of “Customers Who Bought This Item Also Bought” recommendations.\n",
    ">>- Dimensionality reduction:\n",
    ">>>- Used when the number of features  (or dimensions) in a given dataset is too high. \n",
    ">>>- It reduces the number of data inputs to a manageable size while also preserving the data integrity. Often, this technique is used in the preprocessing data stage, such as when autoencoders remove noise from visual data to improve picture quality."
   ]
  },
  {
   "cell_type": "markdown",
   "metadata": {},
   "source": [
    "### IBM artical on the differences:\n",
    ">- https://www.ibm.com/cloud/blog/supervised-vs-unsupervised-learning"
   ]
  },
  {
   "cell_type": "markdown",
   "metadata": {},
   "source": [
    "### Simple Linear Regression"
   ]
  },
  {
   "cell_type": "code",
   "execution_count": 1,
   "metadata": {},
   "outputs": [],
   "source": [
    "import matplotlib.pyplot as plt\n",
    "import numpy as np\n",
    "from sklearn import datasets, linear_model\n",
    "from sklearn.metrics import mean_squared_error, r2_score"
   ]
  },
  {
   "cell_type": "markdown",
   "metadata": {},
   "source": [
    "### Get Sample Data"
   ]
  },
  {
   "cell_type": "code",
   "execution_count": 2,
   "metadata": {},
   "outputs": [
    {
     "data": {
      "text/plain": [
       "array([[ 0.03807591,  0.05068012,  0.06169621, ..., -0.00259226,\n",
       "         0.01990842, -0.01764613],\n",
       "       [-0.00188202, -0.04464164, -0.05147406, ..., -0.03949338,\n",
       "        -0.06832974, -0.09220405],\n",
       "       [ 0.08529891,  0.05068012,  0.04445121, ..., -0.00259226,\n",
       "         0.00286377, -0.02593034],\n",
       "       ...,\n",
       "       [ 0.04170844,  0.05068012, -0.01590626, ..., -0.01107952,\n",
       "        -0.04687948,  0.01549073],\n",
       "       [-0.04547248, -0.04464164,  0.03906215, ...,  0.02655962,\n",
       "         0.04452837, -0.02593034],\n",
       "       [-0.04547248, -0.04464164, -0.0730303 , ..., -0.03949338,\n",
       "        -0.00421986,  0.00306441]])"
      ]
     },
     "execution_count": 2,
     "metadata": {},
     "output_type": "execute_result"
    }
   ],
   "source": [
    "# Load the diabetes dataset\n",
    "diabetes_X, diabetes_y = datasets.load_diabetes(return_X_y=True)\n",
    "\n",
    "diabetes_X"
   ]
  },
  {
   "cell_type": "code",
   "execution_count": 3,
   "metadata": {},
   "outputs": [],
   "source": [
    "# Use only one feature\n",
    "diabetes_X = diabetes_X[:, np.newaxis, 2]\n",
    "\n",
    "# Split the data into training/testing sets\n",
    "diabetes_X_train = diabetes_X[:-20]\n",
    "diabetes_X_test = diabetes_X[-20:]\n",
    "\n",
    "# Split the targets into training/testing sets\n",
    "diabetes_y_train = diabetes_y[:-20]\n",
    "diabetes_y_test = diabetes_y[-20:]"
   ]
  },
  {
   "cell_type": "code",
   "execution_count": 4,
   "metadata": {},
   "outputs": [],
   "source": [
    "# Create linear regression object\n",
    "regr = linear_model.LinearRegression()\n",
    "\n",
    "# Train the model using the training sets\n",
    "regr.fit(diabetes_X_train, diabetes_y_train)\n",
    "\n",
    "# Make predictions using the testing set\n",
    "diabetes_y_pred = regr.predict(diabetes_X_test)"
   ]
  },
  {
   "cell_type": "code",
   "execution_count": 5,
   "metadata": {},
   "outputs": [
    {
     "name": "stdout",
     "output_type": "stream",
     "text": [
      "Coefficients: \n",
      " [938.23786125]\n",
      "Mean squared error: 2548.07\n",
      "Coefficient of determination: 0.47\n"
     ]
    }
   ],
   "source": [
    "# The coefficients\n",
    "print(\"Coefficients: \\n\", regr.coef_)\n",
    "# The mean squared error\n",
    "print(\"Mean squared error: %.2f\" % mean_squared_error(diabetes_y_test, diabetes_y_pred))\n",
    "# The coefficient of determination: 1 is perfect prediction\n",
    "print(\"Coefficient of determination: %.2f\" % r2_score(diabetes_y_test, diabetes_y_pred))"
   ]
  },
  {
   "cell_type": "code",
   "execution_count": 6,
   "metadata": {},
   "outputs": [
    {
     "data": {
      "image/png": "[encoded data removed]",
      "text/plain": [
       "<Figure size 432x288 with 1 Axes>"
      ]
     },
     "metadata": {},
     "output_type": "display_data"
    }
   ],
   "source": [
    "plt.scatter(diabetes_X_test, diabetes_y_test, color=\"black\")\n",
    "plt.plot(diabetes_X_test, diabetes_y_pred, color=\"blue\", linewidth=3)\n",
    "\n",
    "plt.xticks(())\n",
    "plt.yticks(())\n",
    "\n",
    "plt.show()"
   ]
  },
  {
   "cell_type": "markdown",
   "metadata": {},
   "source": [
    "### Analyzing stock with Python"
   ]
  },
  {
   "cell_type": "markdown",
   "metadata": {},
   "source": [
    "##### Import packages"
   ]
  },
  {
   "cell_type": "code",
   "execution_count": 7,
   "metadata": {},
   "outputs": [],
   "source": [
    "import pandas as pd\n",
    "import datetime\n",
    "import pandas_datareader.data as web\n",
    "from pandas import Series, DataFrame\n",
    "import math\n",
    "import numpy as np\n",
    "from sklearn import preprocessing"
   ]
  },
  {
   "cell_type": "markdown",
   "metadata": {},
   "source": [
    "##### Get data"
   ]
  },
  {
   "cell_type": "code",
   "execution_count": 8,
   "metadata": {},
   "outputs": [
    {
     "data": {
      "text/html": [
       "<div>\n",
       "<style scoped>\n",
       "    .dataframe tbody tr th:only-of-type {\n",
       "        vertical-align: middle;\n",
       "    }\n",
       "\n",
       "    .dataframe tbody tr th {\n",
       "        vertical-align: top;\n",
       "    }\n",
       "\n",
       "    .dataframe thead th {\n",
       "        text-align: right;\n",
       "    }\n",
       "</style>\n",
       "<table border=\"1\" class=\"dataframe\">\n",
       "  <thead>\n",
       "    <tr style=\"text-align: right;\">\n",
       "      <th></th>\n",
       "      <th>High</th>\n",
       "      <th>Low</th>\n",
       "      <th>Open</th>\n",
       "      <th>Close</th>\n",
       "      <th>Volume</th>\n",
       "      <th>Adj Close</th>\n",
       "    </tr>\n",
       "    <tr>\n",
       "      <th>Date</th>\n",
       "      <th></th>\n",
       "      <th></th>\n",
       "      <th></th>\n",
       "      <th></th>\n",
       "      <th></th>\n",
       "      <th></th>\n",
       "    </tr>\n",
       "  </thead>\n",
       "  <tbody>\n",
       "    <tr>\n",
       "      <th>2017-01-05</th>\n",
       "      <td>29.215000</td>\n",
       "      <td>28.952499</td>\n",
       "      <td>28.980000</td>\n",
       "      <td>29.152500</td>\n",
       "      <td>88774400.0</td>\n",
       "      <td>27.440720</td>\n",
       "    </tr>\n",
       "    <tr>\n",
       "      <th>2017-01-06</th>\n",
       "      <td>29.540001</td>\n",
       "      <td>29.117500</td>\n",
       "      <td>29.195000</td>\n",
       "      <td>29.477501</td>\n",
       "      <td>127007600.0</td>\n",
       "      <td>27.746637</td>\n",
       "    </tr>\n",
       "    <tr>\n",
       "      <th>2017-01-09</th>\n",
       "      <td>29.857500</td>\n",
       "      <td>29.485001</td>\n",
       "      <td>29.487499</td>\n",
       "      <td>29.747499</td>\n",
       "      <td>134247600.0</td>\n",
       "      <td>28.000776</td>\n",
       "    </tr>\n",
       "    <tr>\n",
       "      <th>2017-01-10</th>\n",
       "      <td>29.844999</td>\n",
       "      <td>29.575001</td>\n",
       "      <td>29.692499</td>\n",
       "      <td>29.777500</td>\n",
       "      <td>97848400.0</td>\n",
       "      <td>28.029020</td>\n",
       "    </tr>\n",
       "    <tr>\n",
       "      <th>2017-01-11</th>\n",
       "      <td>29.982500</td>\n",
       "      <td>29.650000</td>\n",
       "      <td>29.684999</td>\n",
       "      <td>29.937500</td>\n",
       "      <td>110354400.0</td>\n",
       "      <td>28.179626</td>\n",
       "    </tr>\n",
       "  </tbody>\n",
       "</table>\n",
       "</div>"
      ],
      "text/plain": [
       "                 High        Low       Open      Close       Volume  Adj Close\n",
       "Date                                                                          \n",
       "2017-01-05  29.215000  28.952499  28.980000  29.152500   88774400.0  27.440720\n",
       "2017-01-06  29.540001  29.117500  29.195000  29.477501  127007600.0  27.746637\n",
       "2017-01-09  29.857500  29.485001  29.487499  29.747499  134247600.0  28.000776\n",
       "2017-01-10  29.844999  29.575001  29.692499  29.777500   97848400.0  28.029020\n",
       "2017-01-11  29.982500  29.650000  29.684999  29.937500  110354400.0  28.179626"
      ]
     },
     "execution_count": 8,
     "metadata": {},
     "output_type": "execute_result"
    }
   ],
   "source": [
    "start = datetime.datetime(2010, 1, 1)\n",
    "end = datetime.datetime(2017, 1, 11)\n",
    "\n",
    "df = web.DataReader(\"AAPL\", 'yahoo', start, end)\n",
    "df.tail()"
   ]
  },
  {
   "cell_type": "markdown",
   "metadata": {},
   "source": [
    "##### Create 100 day rolling average series:"
   ]
  },
  {
   "cell_type": "code",
   "execution_count": 9,
   "metadata": {},
   "outputs": [
    {
     "data": {
      "text/plain": [
       "Date\n",
       "2010-01-04          NaN\n",
       "2010-01-05          NaN\n",
       "2010-01-06          NaN\n",
       "2010-01-07          NaN\n",
       "2010-01-08          NaN\n",
       "                ...    \n",
       "2017-01-05    26.340922\n",
       "2017-01-06    26.362075\n",
       "2017-01-09    26.386004\n",
       "2017-01-10    26.410590\n",
       "2017-01-11    26.437010\n",
       "Name: Adj Close, Length: 1769, dtype: float64"
      ]
     },
     "execution_count": 9,
     "metadata": {},
     "output_type": "execute_result"
    }
   ],
   "source": [
    "close_px = df['Adj Close']\n",
    "mavg = close_px.rolling(window=100).mean()\n",
    "mavg"
   ]
  },
  {
   "cell_type": "markdown",
   "metadata": {},
   "source": [
    "##### Do some plotting:"
   ]
  },
  {
   "cell_type": "code",
   "execution_count": 10,
   "metadata": {},
   "outputs": [
    {
     "data": {
      "text/plain": [
       "<matplotlib.legend.Legend at 0x25f97708940>"
      ]
     },
     "execution_count": 10,
     "metadata": {},
     "output_type": "execute_result"
    },
    {
     "data": {
      "image/png": "[encoded data removed]",
      "text/plain": [
       "<Figure size 576x504 with 1 Axes>"
      ]
     },
     "metadata": {},
     "output_type": "display_data"
    }
   ],
   "source": [
    "%matplotlib inline\n",
    "import matplotlib.pyplot as plt\n",
    "from matplotlib import style\n",
    "\n",
    "# Adjusting the size of matplotlib\n",
    "import matplotlib as mpl\n",
    "mpl.rc('figure', figsize=(8, 7))\n",
    "mpl.__version__\n",
    "\n",
    "# Adjusting the style of matplotlib\n",
    "style.use('ggplot')\n",
    "\n",
    "close_px.plot(label='AAPL')\n",
    "mavg.plot(label='mavg')\n",
    "plt.legend()"
   ]
  },
  {
   "cell_type": "markdown",
   "metadata": {},
   "source": [
    "##### Calculate Returns:\n",
    ">- r = (Price{today}-Price{yesterday})/Price{yesterday}"
   ]
  },
  {
   "cell_type": "code",
   "execution_count": 5,
   "metadata": {},
   "outputs": [
    {
     "data": {
      "text/plain": [
       "<AxesSubplot:xlabel='Date'>"
      ]
     },
     "execution_count": 5,
     "metadata": {},
     "output_type": "execute_result"
    },
    {
     "data": {
      "image/png": "[encoded data removed]",
      "text/plain": [
       "<Figure size 576x504 with 1 Axes>"
      ]
     },
     "metadata": {},
     "output_type": "display_data"
    }
   ],
   "source": [
    "rets = close_px / close_px.shift(1) - 1\n",
    "rets.plot(label='return')"
   ]
  },
  {
   "cell_type": "markdown",
   "metadata": {},
   "source": [
    "##### Get Apples competitors"
   ]
  },
  {
   "cell_type": "code",
   "execution_count": 6,
   "metadata": {},
   "outputs": [
    {
     "data": {
      "text/html": [
       "<div>\n",
       "<style scoped>\n",
       "    .dataframe tbody tr th:only-of-type {\n",
       "        vertical-align: middle;\n",
       "    }\n",
       "\n",
       "    .dataframe tbody tr th {\n",
       "        vertical-align: top;\n",
       "    }\n",
       "\n",
       "    .dataframe thead th {\n",
       "        text-align: right;\n",
       "    }\n",
       "</style>\n",
       "<table border=\"1\" class=\"dataframe\">\n",
       "  <thead>\n",
       "    <tr style=\"text-align: right;\">\n",
       "      <th>Symbols</th>\n",
       "      <th>AAPL</th>\n",
       "      <th>GE</th>\n",
       "      <th>GOOG</th>\n",
       "      <th>IBM</th>\n",
       "      <th>MSFT</th>\n",
       "    </tr>\n",
       "    <tr>\n",
       "      <th>Date</th>\n",
       "      <th></th>\n",
       "      <th></th>\n",
       "      <th></th>\n",
       "      <th></th>\n",
       "      <th></th>\n",
       "    </tr>\n",
       "  </thead>\n",
       "  <tbody>\n",
       "    <tr>\n",
       "      <th>2017-01-05</th>\n",
       "      <td>27.440718</td>\n",
       "      <td>225.516129</td>\n",
       "      <td>794.020020</td>\n",
       "      <td>128.227356</td>\n",
       "      <td>57.925182</td>\n",
       "    </tr>\n",
       "    <tr>\n",
       "      <th>2017-01-06</th>\n",
       "      <td>27.746634</td>\n",
       "      <td>226.160080</td>\n",
       "      <td>806.150024</td>\n",
       "      <td>128.858246</td>\n",
       "      <td>58.427265</td>\n",
       "    </tr>\n",
       "    <tr>\n",
       "      <th>2017-01-09</th>\n",
       "      <td>28.000778</td>\n",
       "      <td>225.086868</td>\n",
       "      <td>806.650024</td>\n",
       "      <td>127.429245</td>\n",
       "      <td>58.241299</td>\n",
       "    </tr>\n",
       "    <tr>\n",
       "      <th>2017-01-10</th>\n",
       "      <td>28.029018</td>\n",
       "      <td>224.442902</td>\n",
       "      <td>804.789978</td>\n",
       "      <td>125.810295</td>\n",
       "      <td>58.222713</td>\n",
       "    </tr>\n",
       "    <tr>\n",
       "      <th>2017-01-11</th>\n",
       "      <td>28.179621</td>\n",
       "      <td>225.158401</td>\n",
       "      <td>807.909973</td>\n",
       "      <td>127.505272</td>\n",
       "      <td>58.752686</td>\n",
       "    </tr>\n",
       "  </tbody>\n",
       "</table>\n",
       "</div>"
      ],
      "text/plain": [
       "Symbols          AAPL          GE        GOOG         IBM       MSFT\n",
       "Date                                                                \n",
       "2017-01-05  27.440718  225.516129  794.020020  128.227356  57.925182\n",
       "2017-01-06  27.746634  226.160080  806.150024  128.858246  58.427265\n",
       "2017-01-09  28.000778  225.086868  806.650024  127.429245  58.241299\n",
       "2017-01-10  28.029018  224.442902  804.789978  125.810295  58.222713\n",
       "2017-01-11  28.179621  225.158401  807.909973  127.505272  58.752686"
      ]
     },
     "execution_count": 6,
     "metadata": {},
     "output_type": "execute_result"
    }
   ],
   "source": [
    "dfcomp = web.DataReader(['AAPL', 'GE', 'GOOG', 'IBM', 'MSFT'],'yahoo',start=start,end=end)['Adj Close']\n",
    "dfcomp.tail()"
   ]
  },
  {
   "cell_type": "markdown",
   "metadata": {},
   "source": [
    "##### Look at correlation between companies:"
   ]
  },
  {
   "cell_type": "code",
   "execution_count": 7,
   "metadata": {},
   "outputs": [
    {
     "data": {
      "text/html": [
       "<div>\n",
       "<style scoped>\n",
       "    .dataframe tbody tr th:only-of-type {\n",
       "        vertical-align: middle;\n",
       "    }\n",
       "\n",
       "    .dataframe tbody tr th {\n",
       "        vertical-align: top;\n",
       "    }\n",
       "\n",
       "    .dataframe thead th {\n",
       "        text-align: right;\n",
       "    }\n",
       "</style>\n",
       "<table border=\"1\" class=\"dataframe\">\n",
       "  <thead>\n",
       "    <tr style=\"text-align: right;\">\n",
       "      <th>Symbols</th>\n",
       "      <th>AAPL</th>\n",
       "      <th>GE</th>\n",
       "      <th>GOOG</th>\n",
       "      <th>IBM</th>\n",
       "      <th>MSFT</th>\n",
       "    </tr>\n",
       "    <tr>\n",
       "      <th>Symbols</th>\n",
       "      <th></th>\n",
       "      <th></th>\n",
       "      <th></th>\n",
       "      <th></th>\n",
       "      <th></th>\n",
       "    </tr>\n",
       "  </thead>\n",
       "  <tbody>\n",
       "    <tr>\n",
       "      <th>AAPL</th>\n",
       "      <td>1.000000</td>\n",
       "      <td>0.381501</td>\n",
       "      <td>0.411693</td>\n",
       "      <td>0.383906</td>\n",
       "      <td>0.393467</td>\n",
       "    </tr>\n",
       "    <tr>\n",
       "      <th>GE</th>\n",
       "      <td>0.381501</td>\n",
       "      <td>1.000000</td>\n",
       "      <td>0.422301</td>\n",
       "      <td>0.535500</td>\n",
       "      <td>0.474070</td>\n",
       "    </tr>\n",
       "    <tr>\n",
       "      <th>GOOG</th>\n",
       "      <td>0.411693</td>\n",
       "      <td>0.422301</td>\n",
       "      <td>1.000000</td>\n",
       "      <td>0.402875</td>\n",
       "      <td>0.472082</td>\n",
       "    </tr>\n",
       "    <tr>\n",
       "      <th>IBM</th>\n",
       "      <td>0.383906</td>\n",
       "      <td>0.535500</td>\n",
       "      <td>0.402875</td>\n",
       "      <td>1.000000</td>\n",
       "      <td>0.496905</td>\n",
       "    </tr>\n",
       "    <tr>\n",
       "      <th>MSFT</th>\n",
       "      <td>0.393467</td>\n",
       "      <td>0.474070</td>\n",
       "      <td>0.472082</td>\n",
       "      <td>0.496905</td>\n",
       "      <td>1.000000</td>\n",
       "    </tr>\n",
       "  </tbody>\n",
       "</table>\n",
       "</div>"
      ],
      "text/plain": [
       "Symbols      AAPL        GE      GOOG       IBM      MSFT\n",
       "Symbols                                                  \n",
       "AAPL     1.000000  0.381501  0.411693  0.383906  0.393467\n",
       "GE       0.381501  1.000000  0.422301  0.535500  0.474070\n",
       "GOOG     0.411693  0.422301  1.000000  0.402875  0.472082\n",
       "IBM      0.383906  0.535500  0.402875  1.000000  0.496905\n",
       "MSFT     0.393467  0.474070  0.472082  0.496905  1.000000"
      ]
     },
     "execution_count": 7,
     "metadata": {},
     "output_type": "execute_result"
    }
   ],
   "source": [
    "retscomp = dfcomp.pct_change()\n",
    "\n",
    "corr = retscomp.corr()\n",
    "corr"
   ]
  },
  {
   "cell_type": "markdown",
   "metadata": {},
   "source": [
    "##### Visualizing the Correlation"
   ]
  },
  {
   "cell_type": "code",
   "execution_count": 8,
   "metadata": {},
   "outputs": [
    {
     "data": {
      "image/png": "[encoded data removed]",
      "text/plain": [
       "<Figure size 576x504 with 2 Axes>"
      ]
     },
     "metadata": {},
     "output_type": "display_data"
    }
   ],
   "source": [
    "plt.imshow(corr, cmap='hot', interpolation='none')\n",
    "plt.colorbar()\n",
    "plt.xticks(range(len(corr)), corr.columns)\n",
    "plt.yticks(range(len(corr)), corr.columns);"
   ]
  },
  {
   "cell_type": "markdown",
   "metadata": {},
   "source": [
    "##### Compare Apple and GE"
   ]
  },
  {
   "cell_type": "code",
   "execution_count": 9,
   "metadata": {},
   "outputs": [
    {
     "data": {
      "text/plain": [
       "Text(0, 0.5, 'Returns GE')"
      ]
     },
     "execution_count": 9,
     "metadata": {},
     "output_type": "execute_result"
    },
    {
     "data": {
      "image/png": "[encoded data removed]",
      "text/plain": [
       "<Figure size 576x504 with 1 Axes>"
      ]
     },
     "metadata": {},
     "output_type": "display_data"
    }
   ],
   "source": [
    "plt.scatter(retscomp.AAPL, retscomp.GE)\n",
    "plt.xlabel('Returns AAPL')\n",
    "plt.ylabel('Returns GE')"
   ]
  },
  {
   "cell_type": "markdown",
   "metadata": {},
   "source": [
    "##### Features Engineering\n",
    ">- High Low Percentage and Percentage Change"
   ]
  },
  {
   "cell_type": "code",
   "execution_count": 43,
   "metadata": {},
   "outputs": [
    {
     "data": {
      "text/html": [
       "<div>\n",
       "<style scoped>\n",
       "    .dataframe tbody tr th:only-of-type {\n",
       "        vertical-align: middle;\n",
       "    }\n",
       "\n",
       "    .dataframe tbody tr th {\n",
       "        vertical-align: top;\n",
       "    }\n",
       "\n",
       "    .dataframe thead th {\n",
       "        text-align: right;\n",
       "    }\n",
       "</style>\n",
       "<table border=\"1\" class=\"dataframe\">\n",
       "  <thead>\n",
       "    <tr style=\"text-align: right;\">\n",
       "      <th></th>\n",
       "      <th>Adj Close</th>\n",
       "      <th>Volume</th>\n",
       "      <th>HL_PCT</th>\n",
       "      <th>PCT_change</th>\n",
       "    </tr>\n",
       "    <tr>\n",
       "      <th>Date</th>\n",
       "      <th></th>\n",
       "      <th></th>\n",
       "      <th></th>\n",
       "      <th></th>\n",
       "    </tr>\n",
       "  </thead>\n",
       "  <tbody>\n",
       "    <tr>\n",
       "      <th>2010-01-04</th>\n",
       "      <td>6.553026</td>\n",
       "      <td>493729600.0</td>\n",
       "      <td>0.990606</td>\n",
       "      <td>0.271752</td>\n",
       "    </tr>\n",
       "    <tr>\n",
       "      <th>2010-01-05</th>\n",
       "      <td>6.564355</td>\n",
       "      <td>601904800.0</td>\n",
       "      <td>1.091526</td>\n",
       "      <td>-0.102519</td>\n",
       "    </tr>\n",
       "    <tr>\n",
       "      <th>2010-01-06</th>\n",
       "      <td>6.459940</td>\n",
       "      <td>552160000.0</td>\n",
       "      <td>2.123529</td>\n",
       "      <td>-1.590632</td>\n",
       "    </tr>\n",
       "    <tr>\n",
       "      <th>2010-01-07</th>\n",
       "      <td>6.447998</td>\n",
       "      <td>477131200.0</td>\n",
       "      <td>1.400900</td>\n",
       "      <td>-0.552545</td>\n",
       "    </tr>\n",
       "    <tr>\n",
       "      <th>2010-01-08</th>\n",
       "      <td>6.490867</td>\n",
       "      <td>447610800.0</td>\n",
       "      <td>1.386917</td>\n",
       "      <td>0.798858</td>\n",
       "    </tr>\n",
       "    <tr>\n",
       "      <th>...</th>\n",
       "      <td>...</td>\n",
       "      <td>...</td>\n",
       "      <td>...</td>\n",
       "      <td>...</td>\n",
       "    </tr>\n",
       "    <tr>\n",
       "      <th>2017-01-05</th>\n",
       "      <td>27.440723</td>\n",
       "      <td>88774400.0</td>\n",
       "      <td>0.900440</td>\n",
       "      <td>0.595240</td>\n",
       "    </tr>\n",
       "    <tr>\n",
       "      <th>2017-01-06</th>\n",
       "      <td>27.746634</td>\n",
       "      <td>127007600.0</td>\n",
       "      <td>1.433299</td>\n",
       "      <td>0.967636</td>\n",
       "    </tr>\n",
       "    <tr>\n",
       "      <th>2017-01-09</th>\n",
       "      <td>28.000778</td>\n",
       "      <td>134247600.0</td>\n",
       "      <td>1.252204</td>\n",
       "      <td>0.881730</td>\n",
       "    </tr>\n",
       "    <tr>\n",
       "      <th>2017-01-10</th>\n",
       "      <td>28.029018</td>\n",
       "      <td>97848400.0</td>\n",
       "      <td>0.906720</td>\n",
       "      <td>0.286271</td>\n",
       "    </tr>\n",
       "    <tr>\n",
       "      <th>2017-01-11</th>\n",
       "      <td>28.179623</td>\n",
       "      <td>110354400.0</td>\n",
       "      <td>1.110649</td>\n",
       "      <td>0.850600</td>\n",
       "    </tr>\n",
       "  </tbody>\n",
       "</table>\n",
       "<p>1769 rows × 4 columns</p>\n",
       "</div>"
      ],
      "text/plain": [
       "            Adj Close       Volume    HL_PCT  PCT_change\n",
       "Date                                                    \n",
       "2010-01-04   6.553026  493729600.0  0.990606    0.271752\n",
       "2010-01-05   6.564355  601904800.0  1.091526   -0.102519\n",
       "2010-01-06   6.459940  552160000.0  2.123529   -1.590632\n",
       "2010-01-07   6.447998  477131200.0  1.400900   -0.552545\n",
       "2010-01-08   6.490867  447610800.0  1.386917    0.798858\n",
       "...               ...          ...       ...         ...\n",
       "2017-01-05  27.440723   88774400.0  0.900440    0.595240\n",
       "2017-01-06  27.746634  127007600.0  1.433299    0.967636\n",
       "2017-01-09  28.000778  134247600.0  1.252204    0.881730\n",
       "2017-01-10  28.029018   97848400.0  0.906720    0.286271\n",
       "2017-01-11  28.179623  110354400.0  1.110649    0.850600\n",
       "\n",
       "[1769 rows x 4 columns]"
      ]
     },
     "execution_count": 43,
     "metadata": {},
     "output_type": "execute_result"
    }
   ],
   "source": [
    "dfreg = df.loc[:,['Adj Close','Volume']] ## df here is our initial apple df\n",
    "dfreg['HL_PCT'] = (df['High'] - df['Low']) / df['Close'] * 100.0\n",
    "dfreg['PCT_change'] = (df['Close'] - df['Open']) / df['Open'] * 100.0\n",
    "\n",
    "dfreg"
   ]
  },
  {
   "cell_type": "markdown",
   "metadata": {},
   "source": [
    "##### Pre-processing & Cross Validation\n",
    ">- We will clean up and process the data using the following steps before putting them into the prediction models:\n",
    ">>- Drop missing value\n",
    ">>- Separating the label here, we want to predict the AdjClose\n",
    ">>- Scale the X so that everyone can have the same distribution for linear regression\n",
    ">>- Finally We want to find Data Series of late X and early X (train) for model generation and evaluation\n",
    ">>- Separate label and identify it as y\n",
    ">>- Separation of training and testing of model by cross validation train test split"
   ]
  },
  {
   "cell_type": "code",
   "execution_count": 44,
   "metadata": {},
   "outputs": [
    {
     "data": {
      "text/plain": [
       "(1769, 4)"
      ]
     },
     "execution_count": 44,
     "metadata": {},
     "output_type": "execute_result"
    }
   ],
   "source": [
    "# Drop missing value\n",
    "dfreg.dropna(inplace=True)\n",
    "dfreg.shape"
   ]
  },
  {
   "cell_type": "code",
   "execution_count": 45,
   "metadata": {},
   "outputs": [
    {
     "name": "stdout",
     "output_type": "stream",
     "text": [
      "89\n"
     ]
    }
   ],
   "source": [
    "# We want to separate 5 percent of the data to forecast\n",
    "forecast_out = int(math.ceil(0.05 * len(dfreg)))\n",
    "print(forecast_out)\n"
   ]
  },
  {
   "cell_type": "code",
   "execution_count": 79,
   "metadata": {},
   "outputs": [
    {
     "name": "stdout",
     "output_type": "stream",
     "text": [
      "Date\n",
      "2010-01-04    6.553026\n",
      "2010-01-05    6.564355\n",
      "2010-01-06    6.459940\n",
      "Name: Adj Close, dtype: float64\n",
      "Date\n",
      "2016-09-06    25.214554\n",
      "2016-09-07    25.369076\n",
      "2016-09-08    24.704176\n",
      "Name: Adj Close, dtype: float64\n",
      "                 Volume    HL_PCT  PCT_change\n",
      "Date                                         \n",
      "2010-01-04  493729600.0  0.990606    0.271752\n",
      "2010-01-05  601904800.0  1.091526   -0.102519\n",
      "2010-01-06  552160000.0  2.123529   -1.590632\n",
      "                 Volume    HL_PCT  PCT_change\n",
      "Date                                         \n",
      "2016-09-06  107521600.0  0.733520   -0.185361\n",
      "2016-09-07  169457200.0  1.559618    0.491513\n",
      "2016-09-08  212008000.0  1.923805   -1.613057\n"
     ]
    }
   ],
   "source": [
    "y_train = dfreg.iloc[:-forecast_out]['Adj Close']\n",
    "y_test = dfreg.iloc[-forecast_out:]['Adj Close']\n",
    "\n",
    "X_train = dfreg.iloc[:-forecast_out].drop('Adj Close', axis = 1)\n",
    "X_test = dfreg.iloc[-forecast_out:].drop('Adj Close', axis = 1)\n",
    "\n",
    "print(y_train.head(3))\n",
    "print(y_real.head(3))\n",
    "print(X_train.head(3))\n",
    "print(X_test.head(3))\n",
    "\n"
   ]
  },
  {
   "cell_type": "markdown",
   "metadata": {},
   "source": [
    "##### Multiple Linear Regression Model Generation"
   ]
  },
  {
   "cell_type": "markdown",
   "metadata": {},
   "source": [
    "##### Using Stats Model:"
   ]
  },
  {
   "cell_type": "code",
   "execution_count": 87,
   "metadata": {},
   "outputs": [],
   "source": [
    "import statsmodels.api as sm\n",
    "from scipy import stats"
   ]
  },
  {
   "cell_type": "code",
   "execution_count": 90,
   "metadata": {},
   "outputs": [
    {
     "data": {
      "text/html": [
       "<table class=\"simpletable\">\n",
       "<caption>OLS Regression Results</caption>\n",
       "<tr>\n",
       "  <th>Dep. Variable:</th>        <td>Adj Close</td>    <th>  R-squared (uncentered):</th>      <td>   0.611</td> \n",
       "</tr>\n",
       "<tr>\n",
       "  <th>Model:</th>                   <td>OLS</td>       <th>  Adj. R-squared (uncentered):</th> <td>   0.611</td> \n",
       "</tr>\n",
       "<tr>\n",
       "  <th>Method:</th>             <td>Least Squares</td>  <th>  F-statistic:       </th>          <td>   879.3</td> \n",
       "</tr>\n",
       "<tr>\n",
       "  <th>Date:</th>             <td>Mon, 06 Dec 2021</td> <th>  Prob (F-statistic):</th>           <td>  0.00</td>  \n",
       "</tr>\n",
       "<tr>\n",
       "  <th>Time:</th>                 <td>11:01:03</td>     <th>  Log-Likelihood:    </th>          <td> -6493.8</td> \n",
       "</tr>\n",
       "<tr>\n",
       "  <th>No. Observations:</th>      <td>  1680</td>      <th>  AIC:               </th>          <td>1.299e+04</td>\n",
       "</tr>\n",
       "<tr>\n",
       "  <th>Df Residuals:</th>          <td>  1677</td>      <th>  BIC:               </th>          <td>1.301e+04</td>\n",
       "</tr>\n",
       "<tr>\n",
       "  <th>Df Model:</th>              <td>     3</td>      <th>                     </th>              <td> </td>    \n",
       "</tr>\n",
       "<tr>\n",
       "  <th>Covariance Type:</th>      <td>nonrobust</td>    <th>                     </th>              <td> </td>    \n",
       "</tr>\n",
       "</table>\n",
       "<table class=\"simpletable\">\n",
       "<tr>\n",
       "       <td></td>         <th>coef</th>     <th>std err</th>      <th>t</th>      <th>P>|t|</th>  <th>[0.025</th>    <th>0.975]</th>  \n",
       "</tr>\n",
       "<tr>\n",
       "  <th>Volume</th>     <td>-1.684e-10</td> <td> 1.29e-09</td> <td>   -0.130</td> <td> 0.896</td> <td>-2.71e-09</td> <td> 2.37e-09</td>\n",
       "</tr>\n",
       "<tr>\n",
       "  <th>HL_PCT</th>     <td>    6.3806</td> <td>    0.259</td> <td>   24.664</td> <td> 0.000</td> <td>    5.873</td> <td>    6.888</td>\n",
       "</tr>\n",
       "<tr>\n",
       "  <th>PCT_change</th> <td>    0.4309</td> <td>    0.210</td> <td>    2.055</td> <td> 0.040</td> <td>    0.020</td> <td>    0.842</td>\n",
       "</tr>\n",
       "</table>\n",
       "<table class=\"simpletable\">\n",
       "<tr>\n",
       "  <th>Omnibus:</th>       <td>1114.060</td> <th>  Durbin-Watson:     </th> <td>   0.492</td> \n",
       "</tr>\n",
       "<tr>\n",
       "  <th>Prob(Omnibus):</th>  <td> 0.000</td>  <th>  Jarque-Bera (JB):  </th> <td>53637.193</td>\n",
       "</tr>\n",
       "<tr>\n",
       "  <th>Skew:</th>           <td>-2.479</td>  <th>  Prob(JB):          </th> <td>    0.00</td> \n",
       "</tr>\n",
       "<tr>\n",
       "  <th>Kurtosis:</th>       <td>30.233</td>  <th>  Cond. No.          </th> <td>4.19e+08</td> \n",
       "</tr>\n",
       "</table><br/><br/>Notes:<br/>[1] R² is computed without centering (uncentered) since the model does not contain a constant.<br/>[2] Standard Errors assume that the covariance matrix of the errors is correctly specified.<br/>[3] The condition number is large, 4.19e+08. This might indicate that there are<br/>strong multicollinearity or other numerical problems."
      ],
      "text/plain": [
       "<class 'statsmodels.iolib.summary.Summary'>\n",
       "\"\"\"\n",
       "                                 OLS Regression Results                                \n",
       "=======================================================================================\n",
       "Dep. Variable:              Adj Close   R-squared (uncentered):                   0.611\n",
       "Model:                            OLS   Adj. R-squared (uncentered):              0.611\n",
       "Method:                 Least Squares   F-statistic:                              879.3\n",
       "Date:                Mon, 06 Dec 2021   Prob (F-statistic):                        0.00\n",
       "Time:                        11:01:03   Log-Likelihood:                         -6493.8\n",
       "No. Observations:                1680   AIC:                                  1.299e+04\n",
       "Df Residuals:                    1677   BIC:                                  1.301e+04\n",
       "Df Model:                           3                                                  \n",
       "Covariance Type:            nonrobust                                                  \n",
       "==============================================================================\n",
       "                 coef    std err          t      P>|t|      [0.025      0.975]\n",
       "------------------------------------------------------------------------------\n",
       "Volume     -1.684e-10   1.29e-09     -0.130      0.896   -2.71e-09    2.37e-09\n",
       "HL_PCT         6.3806      0.259     24.664      0.000       5.873       6.888\n",
       "PCT_change     0.4309      0.210      2.055      0.040       0.020       0.842\n",
       "==============================================================================\n",
       "Omnibus:                     1114.060   Durbin-Watson:                   0.492\n",
       "Prob(Omnibus):                  0.000   Jarque-Bera (JB):            53637.193\n",
       "Skew:                          -2.479   Prob(JB):                         0.00\n",
       "Kurtosis:                      30.233   Cond. No.                     4.19e+08\n",
       "==============================================================================\n",
       "\n",
       "Notes:\n",
       "[1] R² is computed without centering (uncentered) since the model does not contain a constant.\n",
       "[2] Standard Errors assume that the covariance matrix of the errors is correctly specified.\n",
       "[3] The condition number is large, 4.19e+08. This might indicate that there are\n",
       "strong multicollinearity or other numerical problems.\n",
       "\"\"\""
      ]
     },
     "execution_count": 90,
     "metadata": {},
     "output_type": "execute_result"
    }
   ],
   "source": [
    "X = sm.add_constant(X_train)\n",
    "model1 = sm.OLS(y_train, X_train).fit()\n",
    "model1.summary()"
   ]
  },
  {
   "cell_type": "markdown",
   "metadata": {},
   "source": [
    "##### Prediction:"
   ]
  },
  {
   "cell_type": "code",
   "execution_count": 91,
   "metadata": {},
   "outputs": [
    {
     "name": "stdout",
     "output_type": "stream",
     "text": [
      "Date\n",
      "2010-01-04     6.354578\n",
      "2010-01-05     6.819011\n",
      "2010-01-06    12.770891\n",
      "2010-01-07     8.620075\n",
      "2010-01-08     9.118175\n",
      "                ...    \n",
      "2016-08-29     6.933189\n",
      "2016-08-30     6.084107\n",
      "2016-08-31     5.752230\n",
      "2016-09-01     7.275858\n",
      "2016-09-02     6.982779\n",
      "Length: 1680, dtype: float64\n"
     ]
    }
   ],
   "source": [
    "# In sample prediction\n",
    "ypred = model1.predict(X_train)\n",
    "print(ypred)"
   ]
  },
  {
   "cell_type": "code",
   "execution_count": 92,
   "metadata": {},
   "outputs": [
    {
     "name": "stdout",
     "output_type": "stream",
     "text": [
      "Date\n",
      "2016-09-06     4.582287\n",
      "2016-09-07    10.134505\n",
      "2016-09-08    11.544158\n",
      "2016-09-09    15.370930\n",
      "2016-09-12    20.444588\n",
      "                ...    \n",
      "2017-01-05     5.986862\n",
      "2017-01-06     9.540833\n",
      "2017-01-09     8.347112\n",
      "2017-01-10     5.892264\n",
      "2017-01-11     7.434517\n",
      "Length: 89, dtype: float64\n"
     ]
    }
   ],
   "source": [
    "# Out of sample prediction\n",
    "ypred_out = model1.predict(X_test)\n",
    "print(ypred_out)"
   ]
  }
 ],
 "metadata": {
  "kernelspec": {
   "display_name": "Python 3",
   "language": "python",
   "name": "python3"
  },
  "language_info": {
   "codemirror_mode": {
    "name": "ipython",
    "version": 3
   },
   "file_extension": ".py",
   "mimetype": "text/x-python",
   "name": "python",
   "nbconvert_exporter": "python",
   "pygments_lexer": "ipython3",
   "version": "3.8.8"
  }
 },
 "nbformat": 4,
 "nbformat_minor": 4
}
