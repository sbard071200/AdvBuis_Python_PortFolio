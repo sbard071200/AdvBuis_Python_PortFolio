{
 "cells": [
  {
   "cell_type": "markdown",
   "metadata": {},
   "source": [
    "# Introduction to Python Midterm (Fall 2021)\n",
    ">- 11 Questions\n",
    ">- Questions worth between 10 and 50 points\n",
    ">- 250 points total (25% of your grade)\n",
    "\n",
    "##### You will have from the start of class (3:55pm MT) to the end of class (5:10pm MT) to complete the exam\n",
    ">- Please ensure the file you upload to canvas is the fully saved version and is not missing any code of yours\n",
    "\n",
    "##### Honor Statement\n",
    ">- \"On my honor, as a University of Colorado Boulder student I have neither given nor received unauthorized assistance.\"\n",
    ">- Please type your name below as a proof of signature for the exam"
   ]
  },
  {
   "cell_type": "code",
   "execution_count": 1,
   "metadata": {},
   "outputs": [],
   "source": [
    "#Sam Barday\n"
   ]
  },
  {
   "cell_type": "markdown",
   "metadata": {},
   "source": [
    "### Q1 (10 Points)\n",
    ">- Descrive 2 main differences between lists and dictionaries"
   ]
  },
  {
   "cell_type": "code",
   "execution_count": null,
   "metadata": {},
   "outputs": [],
   "source": [
    "# Lists are categorized by brackets [] while dictionaries are defined by curly brackets {}\n",
    "# Dictionaries posess keys with assigned values (sometimes multiple) while lists only possess valiues\n"
   ]
  },
  {
   "cell_type": "markdown",
   "metadata": {},
   "source": [
    "### Q2 (10 Points)\n",
    ">- List 2 reasons why you would want to build a function"
   ]
  },
  {
   "cell_type": "code",
   "execution_count": null,
   "metadata": {},
   "outputs": [],
   "source": [
    "#You are able to call on said function anytime you need; rather than having to re-code or copy and paste code\n",
    "#Functions are often times complex and are better off bundled together into one command(Less lines of code)"
   ]
  },
  {
   "cell_type": "markdown",
   "metadata": {},
   "source": [
    "### Q3 (10 Points)\n",
    ">- Describe some differences between a `for` loop and a `while` loop. What is a scenario where you would use one over the other?"
   ]
  },
  {
   "cell_type": "code",
   "execution_count": null,
   "metadata": {},
   "outputs": [],
   "source": [
    "#for loops look for variables in a predetermined # of iterations.\n",
    "#While loops will run any number of iterations until its told to stop or a certain condition is false\n",
    "\n",
    "#When trying to create lists or dictionaries from values of previous existing dictionaries or lists\n",
    "#is when you would use a for loop as opposed to a while loop. This is because dictionaries have finite iterations\n",
    "#While Loops are better served for iterating over a pre defined number of iterations"
   ]
  },
  {
   "cell_type": "markdown",
   "metadata": {},
   "source": [
    "### Q4  (20 Points)\n",
    ">- Retrieve the element \"2\" using list slicing"
   ]
  },
  {
   "cell_type": "code",
   "execution_count": 132,
   "metadata": {},
   "outputs": [
    {
     "data": {
      "text/plain": [
       "2"
      ]
     },
     "execution_count": 132,
     "metadata": {},
     "output_type": "execute_result"
    }
   ],
   "source": [
    "lst = [\"Outter\",\"Most\",\"List\",[\"Inception\",\"Level\",1,[\"More\",\"Sleep\",\"Level\", 2]]]\n",
    "\n",
    "lst[0:4][3][3][3]\n"
   ]
  },
  {
   "cell_type": "markdown",
   "metadata": {},
   "source": [
    "#### Q5  (20 Points)\n",
    ">- Create a program that takes an input of `age` (using `input()`) and prints if you can drive a car alone in colorado\n",
    ">- 16 years old and older \"Can Drive\"\n",
    ">- Less than 16, \"Cannot Drive\"\n",
    ">- Older than 80, \"Maybe should not drive\""
   ]
  },
  {
   "cell_type": "code",
   "execution_count": 161,
   "metadata": {},
   "outputs": [
    {
     "name": "stdout",
     "output_type": "stream",
     "text": [
      "Hello, how are you?\n",
      "4\n",
      "Cannot Drive\n"
     ]
    }
   ],
   "source": [
    "print('Hello, how are you?')\n",
    "age = input()\n",
    "\n",
    "if int(age) < 16:\n",
    "    print(\"Cannot Drive\")\n",
    "elif 80 > int(age) >= 16:\n",
    "    print(\"Can Drive\")\n",
    "elif int(age) > 80:\n",
    "    print(\"Maybe should not drive\")"
   ]
  },
  {
   "cell_type": "markdown",
   "metadata": {},
   "source": [
    "### Q6  (20 points) \n",
    ">-  Add `Colorado` after `Evergreen`\n",
    ">- Replace `\"7322\"` and `\"80439\"` as integers instead of strings\n"
   ]
  },
  {
   "cell_type": "code",
   "execution_count": 1,
   "metadata": {},
   "outputs": [
    {
     "data": {
      "text/plain": [
       "[7322, 'Silverhorn', 'Drive', 'Evergreen', 'Colorado', 80439]"
      ]
     },
     "execution_count": 1,
     "metadata": {},
     "output_type": "execute_result"
    }
   ],
   "source": [
    "addr = ['7322', 'Silverhorn', 'Drive', 'Evergreen', '80439']\n",
    "\n",
    "addr.insert(4, 'Colorado')\n",
    "\n",
    "addr[0] = 7322\n",
    "addr[5] = 80439\n",
    "\n",
    "addr\n",
    "\n"
   ]
  },
  {
   "cell_type": "markdown",
   "metadata": {},
   "source": [
    "### Q7 (20 points) \n",
    ">- Create a function that takes two arguments, day of week (1-7) and time (1-24) and returns if you are working or not based on the following rules:\n",
    ">- if it is a week day (1-5) and between 9am and 5pm (9-17) return \"Working\"\n",
    ">- if it is a weekend (6,7) return \"Weekend\"\n",
    ">- otherwise, return \"Not Working\"\n"
   ]
  },
  {
   "cell_type": "code",
   "execution_count": 138,
   "metadata": {},
   "outputs": [
    {
     "name": "stdout",
     "output_type": "stream",
     "text": [
      "What day of the week is it? 1-7\n",
      "3\n",
      "What is the time? 1-24\n",
      "18\n",
      "Not Working\n"
     ]
    }
   ],
   "source": [
    "def midterm():\n",
    "    print(\"What day of the week is it? 1-7\")\n",
    "    dotw = input()\n",
    "    print(\"What is the time? 1-24\")\n",
    "    tod = input()\n",
    "    \n",
    "    if int(dotw) > 5:\n",
    "        print(\"Weekend\")\n",
    "    elif int(tod) > 17:\n",
    "        print(\"Not Working\")\n",
    "    elif int(tod) < 9:\n",
    "        print(\"Not Working\")\n",
    "    else:\n",
    "        print(\"Working\")\n",
    "        \n",
    "midterm()\n",
    "        \n",
    "    "
   ]
  },
  {
   "cell_type": "markdown",
   "metadata": {},
   "source": [
    "### Q8 (30 points) \n",
    ">- Retrieve the value \"Standard Generalized Markup Language\" from the dictionary by using `.get()` and store the value in a variable called `GlossTerm`\n",
    ">- feel free to do this in as many, or as few, steps as you would like"
   ]
  },
  {
   "cell_type": "code",
   "execution_count": 201,
   "metadata": {},
   "outputs": [
    {
     "data": {
      "text/plain": [
       "'Standard Generalized Markup Language'"
      ]
     },
     "execution_count": 201,
     "metadata": {},
     "output_type": "execute_result"
    }
   ],
   "source": [
    "my_dict = {\n",
    "    \"glossary\": {\n",
    "    \"title\": \"example glossary\",\n",
    "    \"GlossDiv\": {\n",
    "             \"title\": \"S\",\n",
    "            \"GlossList\": {\n",
    "                \"GlossEntry\": {\n",
    "                    \"ID\": \"SGML\",\n",
    "                    \"SortAs\": \"SGML\",\n",
    "                    \"GlossTerm\": \"Standard Generalized Markup Language\",\n",
    "                    \"Acronym\": \"SGML\",\n",
    "                    \"Abbrev\": \"ISO 8879:1986\",\n",
    "                    \"GlossDef\": {\n",
    "                        \"para\": \"A meta-markup language, used to create markup languages such as DocBook.\",\n",
    "                        \"GlossSeeAlso\": [\"GML\", \"XML\"]\n",
    "                    },\n",
    "                    \"GlossSee\": \"markup\"\n",
    "                }\n",
    "            }\n",
    "        }\n",
    "    }\n",
    "}\n",
    "\n",
    "new_dict1 = my_dict.get(key).get('GlossDiv').get(\"GlossList\")\n",
    "\n",
    "GlossTerm = new_dict1.get('GlossEntry').get('GlossTerm')\n",
    "\n",
    "GlossTerm"
   ]
  },
  {
   "cell_type": "markdown",
   "metadata": {},
   "source": [
    "### Q9 (30 points)\n",
    ">- Comute the average salary from the list of employees\n"
   ]
  },
  {
   "cell_type": "code",
   "execution_count": 2,
   "metadata": {},
   "outputs": [
    {
     "name": "stdout",
     "output_type": "stream",
     "text": [
      "[50000]\n",
      "[50000, 88000]\n",
      "[50000, 88000, 75000]\n",
      "[50000, 88000, 75000, 62500]\n",
      "[50000, 88000, 75000, 62500, 103000]\n",
      "The average salary is... \n"
     ]
    },
    {
     "data": {
      "text/plain": [
       "75700.0"
      ]
     },
     "execution_count": 2,
     "metadata": {},
     "output_type": "execute_result"
    }
   ],
   "source": [
    "employees = {\n",
    "    \"emp1\" : {\"name\" : \"Kalin\" , \"age\" : \"42\", \"salary\" : \"50000\"},\n",
    "    \"emp2\" : {\"name\" : \"Evan\" , \"age\" : \"28\", \"salary\" : \"88000\"},\n",
    "    \"emp3\" : {\"name\" : \"Sasha\" , \"age\" : \"33\", \"salary\" : \"75000\"},\n",
    "    \"emp4\" : {\"name\" : \"Marlissa\" , \"age\" : \"25\", \"salary\" : \"62500\"},\n",
    "    \"emp5\" : {\"name\" : \"Tulika\" , \"age\" : \"37\", \"salary\" : \"103000\"}\n",
    "}\n",
    "\n",
    "# Hint\n",
    "salaries = []\n",
    "\n",
    "for key in employees.keys():\n",
    "    emp_list = key\n",
    "    sal = employees.get(key).get(\"salary\")\n",
    "    sal = int(sal)\n",
    "    \n",
    "    salaries.append(sal)\n",
    "    print(salaries)\n",
    "    \n",
    "print(\"The average salary is... \")\n",
    "sum(salaries) / 5\n",
    "\n",
    "#or divide by len(salaries)\n",
    "\n"
   ]
  },
  {
   "cell_type": "markdown",
   "metadata": {},
   "source": [
    "### Q10 (30 points)\n",
    ">- Create a blank dictionary called \"midterm\" with key values 0-10 (representing a student number or id)\n",
    ">- Assign random integer lists of scores with values from 50-100 (For the scores they got on each question for keys 1-10\n",
    ">- HINT: Use loops, and try not to hardcode\n",
    ">- Example: \n",
    ">- `{\n",
    " 1: [53, 72, 100, 65, 68],\n",
    " 2: [90, 84, 88, 92, 100],\n",
    " 3: [80, 84, 88, 96, 59],\n",
    " 4: [94, 83, 90, 96, 86],\n",
    " 5: [74, 99, 100, 80, 97],\n",
    " 6: [79, 97, 88, 86, 56],\n",
    " 7: [87, 53, 78, 73, 89],\n",
    " 8: [83, 79, 75, 71, 70],\n",
    " 9: [79, 88, 80, 82, 54],\n",
    " 10: [53, 67, 87, 66, 71]}`"
   ]
  },
  {
   "cell_type": "code",
   "execution_count": 4,
   "metadata": {},
   "outputs": [
    {
     "data": {
      "text/plain": [
       "{1: [73, 52, 93, 72, 62, 89, 79, 55, 88, 66],\n",
       " 2: [52, 91, 79, 79, 71, 89, 62, 55, 98, 54],\n",
       " 3: [53, 99, 63, 80, 91, 71, 79, 87, 63, 84],\n",
       " 4: [92, 65, 77, 72, 88, 96, 74, 85, 77, 65],\n",
       " 5: [91, 73, 52, 87, 55, 77, 95, 81, 72, 97],\n",
       " 6: [63, 50, 81, 87, 67, 61, 90, 69, 59, 51],\n",
       " 7: [68, 82, 74, 85, 62, 59, 62, 96, 87, 89],\n",
       " 8: [95, 95, 85, 85, 73, 91, 55, 81, 65, 76],\n",
       " 9: [76, 72, 50, 89, 90, 72, 56, 100, 90, 73],\n",
       " 10: [99, 95, 81, 98, 99, 82, 89, 83, 88, 59]}"
      ]
     },
     "execution_count": 4,
     "metadata": {},
     "output_type": "execute_result"
    }
   ],
   "source": [
    "import random\n",
    "\n",
    "# Hint\n",
    "midterm = {}\n",
    "\n",
    "\n",
    "for student in range(1,11):\n",
    "    scores = []\n",
    "    \n",
    "    for score in range(1,11):\n",
    "        scores.append(random.randint(50,100))\n",
    "        \n",
    "    midterm[student] = scores\n",
    "    \n",
    "midterm\n",
    "  \n",
    "    \n",
    "    \n",
    "    \n",
    "\n",
    "\n",
    "\n",
    "\n",
    "\n",
    "\n",
    "\n"
   ]
  },
  {
   "cell_type": "markdown",
   "metadata": {},
   "source": [
    "### Q11 (50 Points)\n",
    ">- Using the following two lists and dictionaries, write a loop to tell me how many points each player currently has.\n",
    ">- Then, tell me who is winning and with how many points in the format:\n",
    ">- `playerX is the current points leader with Y points`"
   ]
  },
  {
   "cell_type": "code",
   "execution_count": 13,
   "metadata": {},
   "outputs": [
    {
     "data": {
      "text/plain": [
       "[('player1', 42), ('player2', 40)]"
      ]
     },
     "execution_count": 13,
     "metadata": {},
     "output_type": "execute_result"
    }
   ],
   "source": [
    "players = {\n",
    "    'player1': ['ZEBRA','YATZEE','TOMATO']\n",
    "    , 'player2': ['QUINOA','FISH','SPRINKLER']\n",
    "}\n",
    "\n",
    "points = {\n",
    "    \"a\": 1, \"c\": 3, \"b\": 3, \"e\": 1, \"d\": 2, \"g\": 2, \n",
    "    \"f\": 4, \"i\": 1, \"h\": 4, \"k\": 5, \"j\": 8, \"m\": 3, \n",
    "    \"l\": 1, \"o\": 1, \"n\": 1, \"q\": 10, \"p\": 3, \"s\": 1, \n",
    "    \"r\": 1, \"u\": 1, \"t\": 1, \"w\": 4, \"v\": 4, \"y\": 4, \n",
    "    \"x\": 8, \"z\": 10\n",
    "}\n",
    "\n",
    "# Hint:\n",
    "scores = {}\n",
    "\n",
    "for player in players.keys():\n",
    "    \n",
    "    words = players.get(player)\n",
    "    letters = ''.join(words).lower()\n",
    "    score = 0\n",
    "    for letter in letters:\n",
    "        score += points.get(letter)\n",
    "    \n",
    "    scores[player] = score\n",
    "    \n",
    "scores\n",
    "\n",
    "list(scores.items())\n",
    "\n",
    "\n",
    "#print(f'{scores.keys()[0]} is the leading scorer, with {scores.values()[0] points'})\n",
    "        \n",
    "        \n",
    "\n"
   ]
  },
  {
   "cell_type": "code",
   "execution_count": null,
   "metadata": {},
   "outputs": [],
   "source": []
  }
 ],
 "metadata": {
  "kernelspec": {
   "display_name": "Python 3",
   "language": "python",
   "name": "python3"
  },
  "language_info": {
   "codemirror_mode": {
    "name": "ipython",
    "version": 3
   },
   "file_extension": ".py",
   "mimetype": "text/x-python",
   "name": "python",
   "nbconvert_exporter": "python",
   "pygments_lexer": "ipython3",
   "version": "3.8.8"
  }
 },
 "nbformat": 4,
 "nbformat_minor": 4
}
