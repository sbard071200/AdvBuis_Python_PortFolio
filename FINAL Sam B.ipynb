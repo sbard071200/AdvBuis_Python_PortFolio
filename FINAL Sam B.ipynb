{
 "cells": [
  {
   "cell_type": "markdown",
   "metadata": {
    "deletable": false,
    "editable": false,
    "nbgrader": {
     "cell_type": "markdown",
     "checksum": "3d63d7733afde18fb07f45f069dcb2ab",
     "grade": false,
     "grade_id": "cell-c993517bb1604d8c",
     "locked": true,
     "schema_version": 3,
     "solution": false,
     "task": false
    }
   },
   "source": [
    "# FINAL\n",
    "\n",
    "Total Points: 300"
   ]
  },
  {
   "cell_type": "code",
   "execution_count": 1,
   "metadata": {
    "deletable": false,
    "editable": false,
    "nbgrader": {
     "cell_type": "code",
     "checksum": "7f0b4b7ccb770b3d634eef8ca4846428",
     "grade": false,
     "grade_id": "cell-7e22d55044c8bd4e",
     "locked": true,
     "schema_version": 3,
     "solution": false,
     "task": false
    }
   },
   "outputs": [],
   "source": [
    "### RUN THIS CELL\n",
    "import pandas as pd\n",
    "import os\n",
    "import random\n",
    "import pprint\n",
    "import re"
   ]
  },
  {
   "cell_type": "markdown",
   "metadata": {
    "deletable": false,
    "editable": false,
    "nbgrader": {
     "cell_type": "markdown",
     "checksum": "79df2c284276474ccf5fc1c560ac3a37",
     "grade": false,
     "grade_id": "cell-05ac72180b732728",
     "locked": true,
     "schema_version": 3,
     "solution": false,
     "task": false
    }
   },
   "source": [
    "### Please type your name below as a signature of the CU Boulder Honor Code\n",
    "\n",
    ">- On my honor, as a University of Colorado Boulder student\n",
    " I have neither given nor received unauthorized assistance."
   ]
  },
  {
   "cell_type": "code",
   "execution_count": null,
   "metadata": {
    "deletable": false,
    "nbgrader": {
     "cell_type": "code",
     "checksum": "6f2fe372dc60074e57ec713928b08826",
     "grade": false,
     "grade_id": "cell-b1f94620ccb88229",
     "locked": false,
     "schema_version": 3,
     "solution": true,
     "task": false
    }
   },
   "outputs": [],
   "source": [
    "#Sam Barday\n"
   ]
  },
  {
   "cell_type": "code",
   "execution_count": null,
   "metadata": {
    "deletable": false,
    "editable": false,
    "nbgrader": {
     "cell_type": "code",
     "checksum": "76456656a8893570d89f3fc9c8130657",
     "grade": true,
     "grade_id": "cell-2af5a66268b111ba",
     "locked": true,
     "points": 10,
     "schema_version": 3,
     "solution": false,
     "task": false
    }
   },
   "outputs": [],
   "source": [
    "# HIDDEN TEST, CANNOT ACCESS CELL"
   ]
  },
  {
   "cell_type": "markdown",
   "metadata": {
    "deletable": false,
    "editable": false,
    "nbgrader": {
     "cell_type": "markdown",
     "checksum": "0f1aae83ab86fdb3487dce73a02fab0f",
     "grade": false,
     "grade_id": "cell-bb64afe8c93dd937",
     "locked": true,
     "schema_version": 3,
     "solution": false,
     "task": false
    }
   },
   "source": [
    "### Q1 (10 Points)\n",
    ">- Type 2 differences between Lambda Functins and a Function you create using `def` (Besides how they are defined)\n",
    ">- State 1 reaon to use a normal function defined with `def` over a lambda function\n",
    ">- State 1 reason to use a lambda function over a normal fuction"
   ]
  },
  {
   "cell_type": "code",
   "execution_count": null,
   "metadata": {
    "deletable": false,
    "nbgrader": {
     "cell_type": "code",
     "checksum": "7e76218eb8c25869ea8c59d30b3c3798",
     "grade": false,
     "grade_id": "cell-0594953e9d726f7a",
     "locked": false,
     "schema_version": 3,
     "solution": true,
     "task": false
    }
   },
   "outputs": [],
   "source": [
    "#1.Lamdba functions are temporarily defined functions wile def functions are more permanent.\n",
    "#2.def fucntiuons can be called upon at any time while lambda functions need to be defined each time\n",
    "\n",
    "#1. regular functions with def can contain multiple expressions and statements in their bodies while lambda functions can only have one. Thus using a def function allows you to accomplish more within one function\n",
    "#1. Lamda functions can be easier to use than a normal function because they usually reqiuire less lines of code which is why they are sometimes more useful (changing names in dataframes)"
   ]
  },
  {
   "cell_type": "code",
   "execution_count": null,
   "metadata": {
    "deletable": false,
    "editable": false,
    "nbgrader": {
     "cell_type": "code",
     "checksum": "3950ec8f85dacc3cc25aa7f92a76d615",
     "grade": true,
     "grade_id": "cell-edab9b164045646c",
     "locked": true,
     "points": 10,
     "schema_version": 3,
     "solution": false,
     "task": false
    }
   },
   "outputs": [],
   "source": [
    "# HIDDEN TEST, CANNOT ACCESS CELL"
   ]
  },
  {
   "cell_type": "markdown",
   "metadata": {
    "deletable": false,
    "editable": false,
    "nbgrader": {
     "cell_type": "markdown",
     "checksum": "2afa53161c78d69529edb33edb2baa28",
     "grade": false,
     "grade_id": "cell-497d4a2153eed9f4",
     "locked": true,
     "schema_version": 3,
     "solution": false,
     "task": false
    }
   },
   "source": [
    "### Q2 (10 Points)\n",
    ">- What are 2 Differences between a Pandas Table and a Series?\n",
    ">- How are series used within a pandas table?\n",
    ">- What is one method (bestides `.describe()` you can run on a Pandas Table to create a Series?"
   ]
  },
  {
   "cell_type": "code",
   "execution_count": null,
   "metadata": {
    "deletable": false,
    "nbgrader": {
     "cell_type": "code",
     "checksum": "0fc1a1a56046bd6f0744e083eeadc4de",
     "grade": false,
     "grade_id": "cell-9f2919d103ef8495",
     "locked": false,
     "schema_version": 3,
     "solution": true,
     "task": false
    }
   },
   "outputs": [],
   "source": [
    "#1. A Series is a \"1 dimensional\" form a data that are usually displayed at a list or dict while pandas dataframes are two dimensional\n",
    "#2.a pandas table manages sets of series while series only manage intergers, strings, etc.\n",
    "\n",
    "#1.multiple series can be used in the make up of a Pandas Table. Series contains strings and integers and tables contain those series\n",
    "\n",
    "#1. you can use .dtypes to make a series"
   ]
  },
  {
   "cell_type": "code",
   "execution_count": null,
   "metadata": {
    "deletable": false,
    "editable": false,
    "nbgrader": {
     "cell_type": "code",
     "checksum": "93a2af6b93d925e84602c695ba7e80c2",
     "grade": true,
     "grade_id": "cell-3b8fcccc87c08cda",
     "locked": true,
     "points": 10,
     "schema_version": 3,
     "solution": false,
     "task": false
    }
   },
   "outputs": [],
   "source": [
    "# HIDDEN TEST, CANNOT ACCESS CELL"
   ]
  },
  {
   "cell_type": "markdown",
   "metadata": {
    "deletable": false,
    "editable": false,
    "nbgrader": {
     "cell_type": "markdown",
     "checksum": "1a5e1ead12886b483542d45f6ea97f9e",
     "grade": false,
     "grade_id": "cell-9b0b0333d7140e39",
     "locked": true,
     "schema_version": 3,
     "solution": false,
     "task": false
    }
   },
   "source": [
    "### Q3 (30 Points)\n",
    ">- Create a list called `every_4` that stores every 4th number between 22 and 88 (Including 22 and 88).\n",
    ">- Create a variable called `list_len` and store the value for how long the length of `every_4` is\n",
    ">- What is the value for the last element in `every_4`? Store it in a variable called `last` by using list slicing\n",
    ">- Create a new list from `every_4` that only stores every other element of that list. Call it `every_other_4th`"
   ]
  },
  {
   "cell_type": "code",
   "execution_count": 21,
   "metadata": {
    "deletable": false,
    "nbgrader": {
     "cell_type": "code",
     "checksum": "ba2ede6f6aca3984a1bc0ac07744a727",
     "grade": false,
     "grade_id": "cell-dfc10b4da0aba0d4",
     "locked": false,
     "schema_version": 3,
     "solution": true,
     "task": false
    }
   },
   "outputs": [
    {
     "name": "stdout",
     "output_type": "stream",
     "text": [
      "[22, 26, 30, 34, 38, 42, 46, 50, 54, 58, 62, 66, 70, 74, 78, 82, 86]\n",
      "17\n",
      "86\n",
      "[22, 30, 38, 46, 54, 62, 70, 78, 86]\n"
     ]
    }
   ],
   "source": [
    "every_4 = list(range(22,88,4))\n",
    "print(every_4)\n",
    "\n",
    "list_len = (len(every_4))\n",
    "print(list_len)\n",
    "\n",
    "last = (every_4[-1])\n",
    "print(last)\n",
    "\n",
    "every_other_4th = every_4[::2]\n",
    "print(every_other_4th)\n"
   ]
  },
  {
   "cell_type": "markdown",
   "metadata": {
    "deletable": false,
    "editable": false,
    "nbgrader": {
     "cell_type": "markdown",
     "checksum": "cee7b04b868ece80b45c63735f852538",
     "grade": false,
     "grade_id": "q3warn",
     "locked": true,
     "schema_version": 3,
     "solution": false,
     "task": false
    }
   },
   "source": [
    "##### DO NOT HAVE ANY CODE FOR Q3UNDER THIS CELL"
   ]
  },
  {
   "cell_type": "code",
   "execution_count": null,
   "metadata": {
    "deletable": false,
    "editable": false,
    "nbgrader": {
     "cell_type": "code",
     "checksum": "6fef6e775287ea36c467d8a3ac51782b",
     "grade": true,
     "grade_id": "cell-45b677bfb6426ace",
     "locked": true,
     "points": 8,
     "schema_version": 3,
     "solution": false,
     "task": false
    }
   },
   "outputs": [],
   "source": [
    "# HIDDEN TEST, CANNOT ACCESS CELL"
   ]
  },
  {
   "cell_type": "code",
   "execution_count": null,
   "metadata": {
    "deletable": false,
    "editable": false,
    "nbgrader": {
     "cell_type": "code",
     "checksum": "cdc25bfa96d5f26bed99361d1966ea1f",
     "grade": true,
     "grade_id": "cell-5124301ed251bcb2",
     "locked": true,
     "points": 7,
     "schema_version": 3,
     "solution": false,
     "task": false
    }
   },
   "outputs": [],
   "source": [
    "# HIDDEN TEST, CANNOT ACCESS CELL"
   ]
  },
  {
   "cell_type": "code",
   "execution_count": null,
   "metadata": {
    "deletable": false,
    "editable": false,
    "nbgrader": {
     "cell_type": "code",
     "checksum": "122ad12a6a7a35b6170996434800e558",
     "grade": true,
     "grade_id": "cell-35f0bc115105595a",
     "locked": true,
     "points": 7,
     "schema_version": 3,
     "solution": false,
     "task": false
    }
   },
   "outputs": [],
   "source": [
    "# HIDDEN TEST, CANNOT ACCESS CELL"
   ]
  },
  {
   "cell_type": "code",
   "execution_count": null,
   "metadata": {
    "deletable": false,
    "editable": false,
    "nbgrader": {
     "cell_type": "code",
     "checksum": "08bd1073134e9ecac45953ccbbdbce94",
     "grade": true,
     "grade_id": "cell-5ac176296afa5554",
     "locked": true,
     "points": 8,
     "schema_version": 3,
     "solution": false,
     "task": false
    }
   },
   "outputs": [],
   "source": [
    "# HIDDEN TEST, CANNOT ACCESS CELL"
   ]
  },
  {
   "cell_type": "markdown",
   "metadata": {
    "deletable": false,
    "editable": false,
    "nbgrader": {
     "cell_type": "markdown",
     "checksum": "e760df9a00bfb25994055562f7689f65",
     "grade": false,
     "grade_id": "cell-86665c43de6a273a",
     "locked": true,
     "schema_version": 3,
     "solution": false,
     "task": false
    }
   },
   "source": [
    "### Q4 (30 Points)\n",
    ">- Write a function `my_divisor` that accepts two arguments: An upper limit, and a divisor This function will give you all numbers from 0 to your upper limit that are divisible by your divisor.\n",
    ">- Return all numbers between 0 and 50 that are divisible by 8, store the list in a variable called `div_8`"
   ]
  },
  {
   "cell_type": "code",
   "execution_count": 137,
   "metadata": {
    "deletable": false,
    "nbgrader": {
     "cell_type": "code",
     "checksum": "3b307dd3144c786a35a89312b95b8282",
     "grade": false,
     "grade_id": "cell-e996cf1aa96fa33b",
     "locked": false,
     "schema_version": 3,
     "solution": true,
     "task": false
    }
   },
   "outputs": [
    {
     "data": {
      "text/plain": [
       "(10, 0)"
      ]
     },
     "execution_count": 137,
     "metadata": {},
     "output_type": "execute_result"
    }
   ],
   "source": [
    "\n",
    "def my_divisor(n1, n2):\n",
    "    div_d = []\n",
    "    div_8 = []\n",
    "    \n",
    "    quotient = n1 // n2\n",
    "    remainder = n1 % n2\n",
    "    return(quotient, remainder)\n",
    "\n",
    "    for x in range(n1, n2):\n",
    "        if x % n2 == 0:\n",
    "            div_d.append(n1)\n",
    "            return(div_d)\n",
    "    for x in range(n1, n2):\n",
    "        if x % 8 ==0:\n",
    "            div_8.append(x)\n",
    "            return(div_8)\n",
    "\n",
    "    \n",
    "\n",
    "my_divisor(100,10 )\n",
    "            \n",
    "\n",
    "\n",
    "\n",
    "\n",
    "\n",
    "\n",
    "\n",
    "    \n",
    "    "
   ]
  },
  {
   "cell_type": "markdown",
   "metadata": {
    "deletable": false,
    "editable": false,
    "nbgrader": {
     "cell_type": "markdown",
     "checksum": "5f8186c7e8f2aa129596ad27b2572d45",
     "grade": false,
     "grade_id": "q4warn",
     "locked": true,
     "schema_version": 3,
     "solution": false,
     "task": false
    }
   },
   "source": [
    "##### DO NOT HAVE ANY CODE FOR Q4 UNDER THIS CELL"
   ]
  },
  {
   "cell_type": "code",
   "execution_count": null,
   "metadata": {
    "deletable": false,
    "editable": false,
    "nbgrader": {
     "cell_type": "code",
     "checksum": "742ba70a11ddf4a24beb480215c9bb0e",
     "grade": true,
     "grade_id": "cell-d51d26e4ffd4cdc4",
     "locked": true,
     "points": 30,
     "schema_version": 3,
     "solution": false,
     "task": false
    }
   },
   "outputs": [],
   "source": [
    "# HIDDEN TEST, CANNOT ACCESS CELL"
   ]
  },
  {
   "cell_type": "markdown",
   "metadata": {
    "deletable": false,
    "editable": false,
    "nbgrader": {
     "cell_type": "markdown",
     "checksum": "c9e6ced51a72adc9daf963d9f85df7ed",
     "grade": false,
     "grade_id": "cell-bc26023d3fb8cad7",
     "locked": true,
     "schema_version": 3,
     "solution": false,
     "task": false
    }
   },
   "source": [
    "### Q5 (30 Points)\n",
    ">- RUN THE NEXT CELL BEFORE STARTING QUESTION 5"
   ]
  },
  {
   "cell_type": "code",
   "execution_count": 43,
   "metadata": {
    "deletable": false,
    "editable": false,
    "nbgrader": {
     "cell_type": "code",
     "checksum": "5879591bdebb0f3843e9290405fa87f1",
     "grade": false,
     "grade_id": "cell-fc2ca3c878c25238",
     "locked": true,
     "schema_version": 3,
     "solution": false,
     "task": false
    }
   },
   "outputs": [
    {
     "data": {
      "text/html": [
       "<div>\n",
       "<style scoped>\n",
       "    .dataframe tbody tr th:only-of-type {\n",
       "        vertical-align: middle;\n",
       "    }\n",
       "\n",
       "    .dataframe tbody tr th {\n",
       "        vertical-align: top;\n",
       "    }\n",
       "\n",
       "    .dataframe thead th {\n",
       "        text-align: right;\n",
       "    }\n",
       "</style>\n",
       "<table border=\"1\" class=\"dataframe\">\n",
       "  <thead>\n",
       "    <tr style=\"text-align: right;\">\n",
       "      <th></th>\n",
       "      <th>Profit</th>\n",
       "      <th>Price in Millions</th>\n",
       "      <th>Square Meter</th>\n",
       "      <th>City</th>\n",
       "    </tr>\n",
       "  </thead>\n",
       "  <tbody>\n",
       "    <tr>\n",
       "      <th>0</th>\n",
       "      <td>119000.0</td>\n",
       "      <td>21.88</td>\n",
       "      <td>3938.0</td>\n",
       "      <td>Berlin</td>\n",
       "    </tr>\n",
       "    <tr>\n",
       "      <th>1</th>\n",
       "      <td>250000.0</td>\n",
       "      <td>27.95</td>\n",
       "      <td>3986.0</td>\n",
       "      <td>Munich</td>\n",
       "    </tr>\n",
       "    <tr>\n",
       "      <th>2</th>\n",
       "      <td>250000.0</td>\n",
       "      <td>16.09</td>\n",
       "      <td>2574.0</td>\n",
       "      <td>Cologne</td>\n",
       "    </tr>\n",
       "  </tbody>\n",
       "</table>\n",
       "</div>"
      ],
      "text/plain": [
       "     Profit  Price in Millions  Square Meter     City\n",
       "0  119000.0              21.88        3938.0   Berlin\n",
       "1  250000.0              27.95        3986.0   Munich\n",
       "2  250000.0              16.09        2574.0  Cologne"
      ]
     },
     "execution_count": 43,
     "metadata": {},
     "output_type": "execute_result"
    }
   ],
   "source": [
    "### RUN THIS CELL BEFORE STARTING Q5\n",
    "hotels = {\"Profit\":{\"0\":119000.0,\"1\":250000.0,\"2\":250000.0,\"3\":145000.0,\"4\":110000.0,\"5\":246000.0,\"6\":54000.0,\"7\":2000.0,\"8\":114000.0,\"9\":47000.0,\"10\":54000.0,\"11\":124000.0,\"12\":125000.0,\"13\":62000.0,\"14\":250000.0,\"15\":24000.0,\"16\":102000.0,\"17\":26000.0,\"18\":85000.0,\"19\":182000.0,\"20\":74000.0,\"21\":5000.0,\"22\":134000.0,\"23\":14000.0,\"24\":84000.0,\"25\":124000.0,\"26\":32000.0,\"27\":250000.0,\"28\":53000.0,\"29\":32000.0,\"30\":63000.0,\"31\":88000.0,\"32\":156000.0,\"33\":138000.0,\"34\":37000.0,\"35\":86000.0,\"36\":17000.0,\"37\":23000.0,\"38\":136000.0,\"39\":129000.0,\"40\":34000.0,\"41\":18000.0,\"42\":137000.0,\"43\":73000.0,\"44\":156000.0,\"45\":21000.0,\"46\":91000.0,\"47\":72000.0,\"48\":101000.0,\"49\":250000.0},\"Price in Millions\":{\"0\":21.88,\"1\":27.95,\"2\":16.09,\"3\":27.58,\"4\":23.76,\"5\":22.88,\"6\":13.25,\"7\":8.94,\"8\":24.87,\"9\":14.11,\"10\":11.65,\"11\":17.26,\"12\":18.45,\"13\":17.08,\"14\":19.32,\"15\":8.48,\"16\":14.16,\"17\":13.84,\"18\":19.59,\"19\":18.64,\"20\":8.0,\"21\":7.84,\"22\":15.54,\"23\":6.09,\"24\":22.4,\"25\":23.44,\"26\":17.75,\"27\":6.73,\"28\":14.22,\"29\":17.22,\"30\":17.97,\"31\":13.58,\"32\":19.1,\"33\":13.09,\"34\":15.93,\"35\":19.37,\"36\":7.87,\"37\":9.76,\"38\":22.98,\"39\":14.15,\"40\":13.77,\"41\":7.77,\"42\":18.12,\"43\":9.88,\"44\":24.78,\"45\":8.69,\"46\":19.76,\"47\":13.76,\"48\":11.87,\"49\":24.21},\"Square Meter\":{\"0\":3938.0,\"1\":3986.0,\"2\":2574.0,\"3\":4155.0,\"4\":3795.0,\"5\":2773.0,\"6\":634.0,\"7\":82.0,\"8\":3706.0,\"9\":1692.0,\"10\":1989.0,\"11\":2616.0,\"12\":3358.0,\"13\":1941.0,\"14\":1831.0,\"15\":800.0,\"16\":2700.0,\"17\":1257.0,\"18\":2644.0,\"19\":2001.0,\"20\":1581.0,\"21\":82.0,\"22\":2412.0,\"23\":769.0,\"24\":3815.0,\"25\":3122.0,\"26\":1492.0,\"27\":525.0,\"28\":1217.0,\"29\":1497.0,\"30\":3101.0,\"31\":2644.0,\"32\":3631.0,\"33\":1461.0,\"34\":1492.0,\"35\":2408.0,\"36\":859.0,\"37\":703.0,\"38\":4908.0,\"39\":2545.0,\"40\":1847.0,\"41\":502.0,\"42\":3478.0,\"43\":756.0,\"44\":5099.0,\"45\":1215.0,\"46\":3107.0,\"47\":2375.0,\"48\":2101.0,\"49\":4832.0},\"City\":{\"0\":\"Berlin\",\"1\":\"Munich\",\"2\":\"Cologne\",\"3\":\"Munich\",\"4\":\"Berlin\",\"5\":\"Munich\",\"6\":\"Munich\",\"7\":\"Munich\",\"8\":\"Munich\",\"9\":\"Berlin\",\"10\":\"Cologne\",\"11\":\"Berlin\",\"12\":\"Cologne\",\"13\":\"Munich\",\"14\":\"Munich\",\"15\":\"Berlin\",\"16\":\"Cologne\",\"17\":\"Munich\",\"18\":\"Berlin\",\"19\":\"Munich\",\"20\":\"Cologne\",\"21\":\"Munich\",\"22\":\"Cologne\",\"23\":\"Cologne\",\"24\":\"Berlin\",\"25\":\"Munich\",\"26\":\"Munich\",\"27\":\"Cologne\",\"28\":\"Munich\",\"29\":\"Munich\",\"30\":\"Berlin\",\"31\":\"Cologne\",\"32\":\"Cologne\",\"33\":\"Berlin\",\"34\":\"Munich\",\"35\":\"Munich\",\"36\":\"Cologne\",\"37\":\"Berlin\",\"38\":\"Cologne\",\"39\":\"Cologne\",\"40\":\"Berlin\",\"41\":\"Berlin\",\"42\":\"Cologne\",\"43\":\"Berlin\",\"44\":\"Cologne\",\"45\":\"Cologne\",\"46\":\"Berlin\",\"47\":\"Cologne\",\"48\":\"Cologne\",\"49\":\"Cologne\"}}\n",
    "hotels = pd.DataFrame(hotels)\n",
    "hotels.head(3)\n"
   ]
  },
  {
   "cell_type": "markdown",
   "metadata": {
    "deletable": false,
    "editable": false,
    "nbgrader": {
     "cell_type": "markdown",
     "checksum": "f9accd0c9d97c0cb3798e5fd3ac5b4f2",
     "grade": false,
     "grade_id": "cell-40bbece7de8ddd09",
     "locked": true,
     "schema_version": 3,
     "solution": false,
     "task": false
    }
   },
   "source": [
    "### Q5 (30 Points)\n",
    ">- How many columns are in `hotels`? Store this value in a variable called `n_cols`\n",
    ">- How many rows are in `hotels`? Store this value in a variable called `n_rows`\n",
    ">- What are the descriptive statistics for the `hotels dataframe`? Store this dataframe in a variable called `hotel_summary`\n",
    ">- How many null values are there in each row? Store this series in a variable called `null_values`"
   ]
  },
  {
   "cell_type": "code",
   "execution_count": 114,
   "metadata": {
    "deletable": false,
    "nbgrader": {
     "cell_type": "code",
     "checksum": "1c616c0ef13be6b499372b938d3c3531",
     "grade": false,
     "grade_id": "cell-8c7bb14b90ca889c",
     "locked": false,
     "schema_version": 3,
     "solution": true,
     "task": false
    }
   },
   "outputs": [],
   "source": [
    "n_cols = hotels.shape[1]\n",
    "\n",
    "n_rows = hotels.shape[0]\n",
    "\n",
    "hotel_summary = hotels.describe()\n",
    "#print(hotel_summary)\n",
    "\n",
    "null_values = hotels.isnull().sum(axis = 1)\n",
    "#print(null_values)"
   ]
  },
  {
   "cell_type": "markdown",
   "metadata": {
    "deletable": false,
    "editable": false,
    "nbgrader": {
     "cell_type": "markdown",
     "checksum": "13b6c93bc1de9849b7490fe0c1bf8ab8",
     "grade": false,
     "grade_id": "q5warn",
     "locked": true,
     "schema_version": 3,
     "solution": false,
     "task": false
    }
   },
   "source": [
    "##### DO NOT HAVE ANY CODE FOR Q5 UNDER THIS CELL"
   ]
  },
  {
   "cell_type": "code",
   "execution_count": null,
   "metadata": {
    "deletable": false,
    "editable": false,
    "nbgrader": {
     "cell_type": "code",
     "checksum": "29264517f50bc5160ce990fbc1b79d22",
     "grade": true,
     "grade_id": "cell-0288f0f24baa1c5d",
     "locked": true,
     "points": 7,
     "schema_version": 3,
     "solution": false,
     "task": false
    }
   },
   "outputs": [],
   "source": [
    "# HIDDEN TEST, CANNOT ACCESS CELL"
   ]
  },
  {
   "cell_type": "code",
   "execution_count": null,
   "metadata": {
    "deletable": false,
    "editable": false,
    "nbgrader": {
     "cell_type": "code",
     "checksum": "c00472d4fcd8de959c44d8058fe647a8",
     "grade": true,
     "grade_id": "cell-89042caa8eacc540",
     "locked": true,
     "points": 7,
     "schema_version": 3,
     "solution": false,
     "task": false
    }
   },
   "outputs": [],
   "source": [
    "# HIDDEN TEST, CANNOT ACCESS CELL"
   ]
  },
  {
   "cell_type": "code",
   "execution_count": null,
   "metadata": {
    "deletable": false,
    "editable": false,
    "nbgrader": {
     "cell_type": "code",
     "checksum": "852db106076d419fd99eb38b71db70be",
     "grade": true,
     "grade_id": "cell-f6af5f639a598d85",
     "locked": true,
     "points": 8,
     "schema_version": 3,
     "solution": false,
     "task": false
    }
   },
   "outputs": [],
   "source": [
    "# HIDDEN TEST, CANNOT ACCESS CELL"
   ]
  },
  {
   "cell_type": "code",
   "execution_count": null,
   "metadata": {
    "deletable": false,
    "editable": false,
    "nbgrader": {
     "cell_type": "code",
     "checksum": "54c3431f8fba91299f2a1a83ce505174",
     "grade": true,
     "grade_id": "cell-55154497acfc8cc9",
     "locked": true,
     "points": 8,
     "schema_version": 3,
     "solution": false,
     "task": false
    }
   },
   "outputs": [],
   "source": [
    "# HIDDEN TEST, CANNOT ACCESS CELL"
   ]
  },
  {
   "cell_type": "markdown",
   "metadata": {
    "deletable": false,
    "editable": false,
    "nbgrader": {
     "cell_type": "markdown",
     "checksum": "1427117a0d5a83d85a6c139e8ad0d330",
     "grade": false,
     "grade_id": "cell-86665c43de6a273b",
     "locked": true,
     "schema_version": 3,
     "solution": false,
     "task": false
    }
   },
   "source": [
    "### Q6 (30 Points)\n",
    ">- Using the `hotels` dataframe, answer the following questions:\n",
    ">- What is the average Square Meters for hotels? Store this value, rounded to 2 decimal places, in a variable called `avg_square_meter`\n",
    ">- What is the median Price in Millions? Store this value, rounded to 2 decimal places, in a variable called `median_price`\n",
    ">- What is the max Profit? Store this value, rounded to 2 decimal places, in a variable called `max_profit`\n",
    ">- How many distinct cities are there? Store this value in a variable called `n_cities`\n",
    "\n",
    ">-- HINT: Use `.loc['stuff']` to get the key you want out of a series or dataframe\n"
   ]
  },
  {
   "cell_type": "code",
   "execution_count": 98,
   "metadata": {
    "deletable": false,
    "nbgrader": {
     "cell_type": "code",
     "checksum": "813212d5be24088a6d4d7eea029dc49d",
     "grade": false,
     "grade_id": "cell-1348f88221b2e1c4",
     "locked": false,
     "schema_version": 3,
     "solution": true,
     "task": false
    }
   },
   "outputs": [
    {
     "name": "stdout",
     "output_type": "stream",
     "text": [
      "2280.96\n",
      "16.01\n",
      "250000.0\n",
      "3\n"
     ]
    }
   ],
   "source": [
    "avg_square_meter = round(hotels['Square Meter'].mean(),2)\n",
    "print(avg_square_meter)\n",
    "median_price = round(hotels['Price in Millions'].median(),2)\n",
    "print(median_price)\n",
    "max_profit = round(hotels['Profit'].max(),2)\n",
    "print(max_profit)\n",
    "n_cities = hotels['City'].nunique()\n",
    "print(n_cities)\n"
   ]
  },
  {
   "cell_type": "markdown",
   "metadata": {
    "deletable": false,
    "editable": false,
    "nbgrader": {
     "cell_type": "markdown",
     "checksum": "9120fdf925956a2f619c83a3b81b435e",
     "grade": false,
     "grade_id": "q6warn",
     "locked": true,
     "schema_version": 3,
     "solution": false,
     "task": false
    }
   },
   "source": [
    "##### DO NOT HAVE ANY CODE FOR Q6 UNDER THIS CELL"
   ]
  },
  {
   "cell_type": "code",
   "execution_count": null,
   "metadata": {
    "deletable": false,
    "editable": false,
    "nbgrader": {
     "cell_type": "code",
     "checksum": "176c0127ad4bbf8a57137e6d917e859d",
     "grade": true,
     "grade_id": "cell-be4bb642a247c7df",
     "locked": true,
     "points": 7,
     "schema_version": 3,
     "solution": false,
     "task": false
    }
   },
   "outputs": [],
   "source": [
    "# HIDDEN TEST, CANNOT ACCESS CELL"
   ]
  },
  {
   "cell_type": "code",
   "execution_count": null,
   "metadata": {
    "deletable": false,
    "editable": false,
    "nbgrader": {
     "cell_type": "code",
     "checksum": "ffdcab14d43f99501ce11e91ac3d6f72",
     "grade": true,
     "grade_id": "cell-7307e6c925523177",
     "locked": true,
     "points": 7,
     "schema_version": 3,
     "solution": false,
     "task": false
    }
   },
   "outputs": [],
   "source": [
    "# HIDDEN TEST, CANNOT ACCESS CELL"
   ]
  },
  {
   "cell_type": "code",
   "execution_count": null,
   "metadata": {
    "deletable": false,
    "editable": false,
    "nbgrader": {
     "cell_type": "code",
     "checksum": "ea42bb487045e935ff55ea8cd70d212e",
     "grade": true,
     "grade_id": "cell-6d84af06244ed23a",
     "locked": true,
     "points": 8,
     "schema_version": 3,
     "solution": false,
     "task": false
    }
   },
   "outputs": [],
   "source": [
    "# HIDDEN TEST, CANNOT ACCESS CELL"
   ]
  },
  {
   "cell_type": "code",
   "execution_count": null,
   "metadata": {
    "deletable": false,
    "editable": false,
    "nbgrader": {
     "cell_type": "code",
     "checksum": "c1d588c9f273fd04f0fd78b74616e363",
     "grade": true,
     "grade_id": "cell-11dd3ed6ebb49162",
     "locked": true,
     "points": 8,
     "schema_version": 3,
     "solution": false,
     "task": false
    }
   },
   "outputs": [],
   "source": [
    "# HIDDEN TEST, CANNOT ACCESS CELL"
   ]
  },
  {
   "cell_type": "markdown",
   "metadata": {
    "deletable": false,
    "editable": false,
    "nbgrader": {
     "cell_type": "markdown",
     "checksum": "b841ad4cab7cdb6a132ebd6eec61e248",
     "grade": false,
     "grade_id": "cell-e0eeab74372a285d",
     "locked": true,
     "schema_version": 3,
     "solution": false,
     "task": false
    }
   },
   "source": [
    "### Q7 (30 Points)\n",
    ">- Using the `hotels` dataframe create a new column named `price_per_meter`, ensure that you convert it so it is not \"Price in Millions per meter\". \n",
    ">>- Also make sure `Price Per Meter` is rounded to 2 decimal places\n",
    ">- What is the average price per meter by city? Store this series in a variable called `avg_ppm`"
   ]
  },
  {
   "cell_type": "code",
   "execution_count": 126,
   "metadata": {
    "deletable": false,
    "nbgrader": {
     "cell_type": "code",
     "checksum": "3868ed28fdf0fa3c4c210740fdb4267a",
     "grade": false,
     "grade_id": "cell-fc7ed2117663f7f9",
     "locked": false,
     "schema_version": 3,
     "solution": true,
     "task": false
    }
   },
   "outputs": [
    {
     "data": {
      "text/plain": [
       "City\n",
       "Berlin      8687.71\n",
       "Cologne     6239.74\n",
       "Munich     20889.82\n",
       "Name: price_per_meter, dtype: float64"
      ]
     },
     "execution_count": 126,
     "metadata": {},
     "output_type": "execute_result"
    }
   ],
   "source": [
    "hotels['price_per_meter'] = round(hotels['Price in Millions'] * 1000000  // (hotels['Square Meter']),2)\n",
    "                                  \n",
    "hotels.head(3)\n",
    "\n",
    "avg_ppm = round(hotels.groupby('City').price_per_meter.mean(),2)\n",
    "\n",
    "avg_ppm"
   ]
  },
  {
   "cell_type": "markdown",
   "metadata": {
    "deletable": false,
    "editable": false,
    "nbgrader": {
     "cell_type": "markdown",
     "checksum": "bed46a1ebee4812d889be8393c039d95",
     "grade": false,
     "grade_id": "q7warn",
     "locked": true,
     "schema_version": 3,
     "solution": false,
     "task": false
    }
   },
   "source": [
    "##### DO NOT HAVE ANY CODE FOR Q7 UNDER THIS CELL"
   ]
  },
  {
   "cell_type": "code",
   "execution_count": null,
   "metadata": {
    "deletable": false,
    "editable": false,
    "nbgrader": {
     "cell_type": "code",
     "checksum": "ae3afd55652d25bf515f19f263f6df20",
     "grade": true,
     "grade_id": "cell-7f2128b2317c64c5",
     "locked": true,
     "points": 20,
     "schema_version": 3,
     "solution": false,
     "task": false
    }
   },
   "outputs": [],
   "source": [
    "# HIDDEN TEST, CANNOT ACCESS CELL"
   ]
  },
  {
   "cell_type": "code",
   "execution_count": null,
   "metadata": {
    "deletable": false,
    "editable": false,
    "nbgrader": {
     "cell_type": "code",
     "checksum": "1a2946462889814cd83b8b050581048d",
     "grade": true,
     "grade_id": "cell-4972fc74cc9e3664",
     "locked": true,
     "points": 20,
     "schema_version": 3,
     "solution": false,
     "task": false
    }
   },
   "outputs": [],
   "source": [
    "# HIDDEN TEST, CANNOT ACCESS CELL"
   ]
  },
  {
   "cell_type": "markdown",
   "metadata": {
    "deletable": false,
    "editable": false,
    "nbgrader": {
     "cell_type": "markdown",
     "checksum": "1c4955d998f35a5c434fc74edff53cba",
     "grade": false,
     "grade_id": "cell-137f97c6bb2346a7",
     "locked": true,
     "schema_version": 3,
     "solution": false,
     "task": false
    }
   },
   "source": [
    "### Q8 (40 Points)\n",
    ">- Using a loop, find the average salary and age of the below people. Store them in a variables called `avg_sal` and `avg_age`\n",
    ">- What is the average salary per year? (Aka `avg_sal/avg_age`). Round your answer to two decimal places and store it in the variable `avg_sal_per_year`\n",
    ">- Add a 5th persons row to the `people` dictionary, and ensure they are the `5`th key"
   ]
  },
  {
   "cell_type": "code",
   "execution_count": 214,
   "metadata": {
    "deletable": false,
    "nbgrader": {
     "cell_type": "code",
     "checksum": "ba72ea14868ab776a32c61aca81b46fd",
     "grade": false,
     "grade_id": "cell-7edd27e203d02bc1",
     "locked": false,
     "schema_version": 3,
     "solution": true,
     "task": false
    }
   },
   "outputs": [
    {
     "name": "stdout",
     "output_type": "stream",
     "text": [
      "59750.0\n",
      "25.5\n",
      "2343.14\n"
     ]
    },
    {
     "data": {
      "text/plain": [
       "{1: {'name': 'John', 'age': '27', 'job': 'Nurse', 'Salary': 71000},\n",
       " 2: {'name': 'Marie', 'age': '22', 'job': 'Engineer', 'Salary': 84000},\n",
       " 3: {'name': 'Luna', 'age': '24', 'job': 'Fighter Pilot', 'Salary': 49000},\n",
       " 4: {'name': 'Peter', 'age': '29', 'job': 'Researcher', 'Salary': 35000},\n",
       " 5: {'name': 'Sam', 'age': '21', 'job': 'Analyst', 'Salary': 55000}}"
      ]
     },
     "execution_count": 214,
     "metadata": {},
     "output_type": "execute_result"
    }
   ],
   "source": [
    "people = {\n",
    "         1: {'name': 'John', 'age': '27', 'job': 'Nurse', 'Salary': 71000},\n",
    "         2: {'name': 'Marie', 'age': '22', 'job': 'Engineer', 'Salary': 84000},\n",
    "         3: {'name': 'Luna', 'age': '24', 'job': 'Fighter Pilot', 'Salary': 49000},\n",
    "         4: {'name': 'Peter', 'age': '29', 'job': 'Researcher', 'Salary': 35000},\n",
    "            \n",
    "         }\n",
    "\n",
    "\n",
    "sals = []\n",
    "ages = []\n",
    "\n",
    "for key in people.keys():\n",
    "    ppl_list = key\n",
    "    sal = people.get(key).get('Salary')\n",
    "    sal = int(sal)\n",
    "    \n",
    "    sals.append(sal)\n",
    "    \n",
    "avg_sal = sum(sals) / len(people)\n",
    "print(avg_sal)\n",
    "\n",
    "for key in people.keys():\n",
    "    ppl_list = key\n",
    "    age = people.get(key).get('age')\n",
    "    age = int(age)\n",
    "    \n",
    "    ages.append(age)\n",
    "    \n",
    "avg_age = sum(ages) / len(people)\n",
    "print(avg_age)\n",
    "\n",
    "\n",
    "avg_sal_per_year = round((avg_sal/avg_age),2)\n",
    "print(avg_sal_per_year)\n",
    "\n",
    "\n",
    "people[5] = {'name': 'Sam', 'age': '21', 'job': 'Analyst', 'Salary': 55000}\n",
    "\n",
    "people\n",
    "    \n",
    "\n",
    "\n"
   ]
  },
  {
   "cell_type": "markdown",
   "metadata": {
    "deletable": false,
    "editable": false,
    "nbgrader": {
     "cell_type": "markdown",
     "checksum": "6111be038e43a8d56aca8ccf184d1dfc",
     "grade": false,
     "grade_id": "q8warn",
     "locked": true,
     "schema_version": 3,
     "solution": false,
     "task": false
    }
   },
   "source": [
    "##### DO NOT HAVE ANY CODE FOR Q8 UNDER THIS CELL"
   ]
  },
  {
   "cell_type": "code",
   "execution_count": null,
   "metadata": {
    "deletable": false,
    "editable": false,
    "nbgrader": {
     "cell_type": "code",
     "checksum": "4b4e6ae016ab45bbdba04a4dbd8e999f",
     "grade": true,
     "grade_id": "cell-12b72e4e7003a920",
     "locked": true,
     "points": 10,
     "schema_version": 3,
     "solution": false,
     "task": false
    }
   },
   "outputs": [],
   "source": [
    "# HIDDEN TEST, CANNOT ACCESS CELL"
   ]
  },
  {
   "cell_type": "code",
   "execution_count": null,
   "metadata": {
    "deletable": false,
    "editable": false,
    "nbgrader": {
     "cell_type": "code",
     "checksum": "f90cc62e07cb7348b37ef55ca340dca4",
     "grade": true,
     "grade_id": "cell-ae4e39be3c880fbc",
     "locked": true,
     "points": 10,
     "schema_version": 3,
     "solution": false,
     "task": false
    }
   },
   "outputs": [],
   "source": [
    "# HIDDEN TEST, CANNOT ACCESS CELL"
   ]
  },
  {
   "cell_type": "code",
   "execution_count": null,
   "metadata": {
    "deletable": false,
    "editable": false,
    "nbgrader": {
     "cell_type": "code",
     "checksum": "f680c5d2b59772712c9f34d27f563a1a",
     "grade": true,
     "grade_id": "cell-68c2068939725e25",
     "locked": true,
     "points": 10,
     "schema_version": 3,
     "solution": false,
     "task": false
    }
   },
   "outputs": [],
   "source": [
    "# HIDDEN TEST, CANNOT ACCESS CELL"
   ]
  },
  {
   "cell_type": "code",
   "execution_count": null,
   "metadata": {
    "deletable": false,
    "editable": false,
    "nbgrader": {
     "cell_type": "code",
     "checksum": "7cba15346e1e9370541db0d76db9bc03",
     "grade": true,
     "grade_id": "cell-600c971342fdac5e",
     "locked": true,
     "points": 10,
     "schema_version": 3,
     "solution": false,
     "task": false
    }
   },
   "outputs": [],
   "source": [
    "# HIDDEN TEST, CANNOT ACCESS CELL"
   ]
  },
  {
   "cell_type": "markdown",
   "metadata": {
    "deletable": false,
    "editable": false,
    "nbgrader": {
     "cell_type": "markdown",
     "checksum": "9806714b23205533e29ee3af23113770",
     "grade": false,
     "grade_id": "cell-b131bad3d0490214",
     "locked": true,
     "schema_version": 3,
     "solution": false,
     "task": false
    }
   },
   "source": [
    "### Q9 (40 Points)\n",
    ">- Load the file `'nyc-jobs.csv'` into a pandas dataframe named `nyc_jobs`"
   ]
  },
  {
   "cell_type": "markdown",
   "metadata": {
    "deletable": false,
    "editable": false,
    "nbgrader": {
     "cell_type": "markdown",
     "checksum": "43e61f9b2d499e3b89f7cf5fd02bb687",
     "grade": false,
     "grade_id": "cell-ef8f292153d05514",
     "locked": true,
     "schema_version": 3,
     "solution": false,
     "task": false
    }
   },
   "source": [
    "##### LOAD YOUR DATA IN NEXT CELL"
   ]
  },
  {
   "cell_type": "code",
   "execution_count": 227,
   "metadata": {
    "deletable": false,
    "nbgrader": {
     "cell_type": "code",
     "checksum": "8e0773700495c8c17cd0ec656705cdb1",
     "grade": true,
     "grade_id": "cell-8b449db6ac71c04a",
     "locked": false,
     "points": 0,
     "schema_version": 3,
     "solution": true,
     "task": false
    }
   },
   "outputs": [
    {
     "name": "stdout",
     "output_type": "stream",
     "text": [
      "nyc-jobs.csv\n"
     ]
    },
    {
     "data": {
      "text/html": [
       "<div>\n",
       "<style scoped>\n",
       "    .dataframe tbody tr th:only-of-type {\n",
       "        vertical-align: middle;\n",
       "    }\n",
       "\n",
       "    .dataframe tbody tr th {\n",
       "        vertical-align: top;\n",
       "    }\n",
       "\n",
       "    .dataframe thead th {\n",
       "        text-align: right;\n",
       "    }\n",
       "</style>\n",
       "<table border=\"1\" class=\"dataframe\">\n",
       "  <thead>\n",
       "    <tr style=\"text-align: right;\">\n",
       "      <th></th>\n",
       "      <th>Agency</th>\n",
       "      <th>Posting Type</th>\n",
       "      <th># Of Positions</th>\n",
       "      <th>Business Title</th>\n",
       "      <th>Civil Service Title</th>\n",
       "      <th>Title Code No</th>\n",
       "      <th>Level</th>\n",
       "      <th>Job Category</th>\n",
       "      <th>Full-Time/Part-Time indicator</th>\n",
       "      <th>Salary Range From</th>\n",
       "      <th>...</th>\n",
       "      <th>Additional Information</th>\n",
       "      <th>To Apply</th>\n",
       "      <th>Hours/Shift</th>\n",
       "      <th>Work Location 1</th>\n",
       "      <th>Recruitment Contact</th>\n",
       "      <th>Residency Requirement</th>\n",
       "      <th>Posting Date</th>\n",
       "      <th>Post Until</th>\n",
       "      <th>Posting Updated</th>\n",
       "      <th>Process Date</th>\n",
       "    </tr>\n",
       "    <tr>\n",
       "      <th>Job ID</th>\n",
       "      <th></th>\n",
       "      <th></th>\n",
       "      <th></th>\n",
       "      <th></th>\n",
       "      <th></th>\n",
       "      <th></th>\n",
       "      <th></th>\n",
       "      <th></th>\n",
       "      <th></th>\n",
       "      <th></th>\n",
       "      <th></th>\n",
       "      <th></th>\n",
       "      <th></th>\n",
       "      <th></th>\n",
       "      <th></th>\n",
       "      <th></th>\n",
       "      <th></th>\n",
       "      <th></th>\n",
       "      <th></th>\n",
       "      <th></th>\n",
       "      <th></th>\n",
       "    </tr>\n",
       "  </thead>\n",
       "  <tbody>\n",
       "    <tr>\n",
       "      <th>87990</th>\n",
       "      <td>DEPARTMENT OF BUSINESS SERV.</td>\n",
       "      <td>Internal</td>\n",
       "      <td>1</td>\n",
       "      <td>Account Manager</td>\n",
       "      <td>CONTRACT REVIEWER (OFFICE OF L</td>\n",
       "      <td>40563</td>\n",
       "      <td>1</td>\n",
       "      <td>NaN</td>\n",
       "      <td>NaN</td>\n",
       "      <td>42405.00</td>\n",
       "      <td>...</td>\n",
       "      <td>Salary range for this position is: $42,405 - $...</td>\n",
       "      <td>NaN</td>\n",
       "      <td>NaN</td>\n",
       "      <td>NaN</td>\n",
       "      <td>NaN</td>\n",
       "      <td>New York City residency is generally required ...</td>\n",
       "      <td>2011-06-24T00:00:00.000</td>\n",
       "      <td>NaN</td>\n",
       "      <td>2011-06-24T00:00:00.000</td>\n",
       "      <td>2019-12-17T00:00:00.000</td>\n",
       "    </tr>\n",
       "    <tr>\n",
       "      <th>97899</th>\n",
       "      <td>DEPARTMENT OF BUSINESS SERV.</td>\n",
       "      <td>Internal</td>\n",
       "      <td>1</td>\n",
       "      <td>EXECUTIVE DIRECTOR, BUSINESS DEVELOPMENT</td>\n",
       "      <td>ADMINISTRATIVE BUSINESS PROMOT</td>\n",
       "      <td>10009</td>\n",
       "      <td>M3</td>\n",
       "      <td>NaN</td>\n",
       "      <td>F</td>\n",
       "      <td>60740.00</td>\n",
       "      <td>...</td>\n",
       "      <td>NaN</td>\n",
       "      <td>In addition to applying through this website, ...</td>\n",
       "      <td>NaN</td>\n",
       "      <td>NaN</td>\n",
       "      <td>NaN</td>\n",
       "      <td>New York City residency is generally required ...</td>\n",
       "      <td>2012-01-26T00:00:00.000</td>\n",
       "      <td>NaN</td>\n",
       "      <td>2012-01-26T00:00:00.000</td>\n",
       "      <td>2019-12-17T00:00:00.000</td>\n",
       "    </tr>\n",
       "    <tr>\n",
       "      <th>132292</th>\n",
       "      <td>NYC HOUSING AUTHORITY</td>\n",
       "      <td>External</td>\n",
       "      <td>52</td>\n",
       "      <td>Maintenance Worker - Technical Services-Heatin...</td>\n",
       "      <td>MAINTENANCE WORKER</td>\n",
       "      <td>90698</td>\n",
       "      <td>0</td>\n",
       "      <td>Maintenance &amp; Operations</td>\n",
       "      <td>F</td>\n",
       "      <td>51907.68</td>\n",
       "      <td>...</td>\n",
       "      <td>1.  A Motor Vehicle Driverâ€™s License valid i...</td>\n",
       "      <td>Click the \"Apply Now\" button.</td>\n",
       "      <td>NaN</td>\n",
       "      <td>NaN</td>\n",
       "      <td>NaN</td>\n",
       "      <td>NYCHA has no residency requirements.</td>\n",
       "      <td>2013-10-24T00:00:00.000</td>\n",
       "      <td>NaN</td>\n",
       "      <td>2013-12-12T00:00:00.000</td>\n",
       "      <td>2019-12-17T00:00:00.000</td>\n",
       "    </tr>\n",
       "  </tbody>\n",
       "</table>\n",
       "<p>3 rows × 27 columns</p>\n",
       "</div>"
      ],
      "text/plain": [
       "                              Agency Posting Type  # Of Positions  \\\n",
       "Job ID                                                              \n",
       "87990   DEPARTMENT OF BUSINESS SERV.     Internal               1   \n",
       "97899   DEPARTMENT OF BUSINESS SERV.     Internal               1   \n",
       "132292         NYC HOUSING AUTHORITY     External              52   \n",
       "\n",
       "                                           Business Title  \\\n",
       "Job ID                                                      \n",
       "87990                                     Account Manager   \n",
       "97899            EXECUTIVE DIRECTOR, BUSINESS DEVELOPMENT   \n",
       "132292  Maintenance Worker - Technical Services-Heatin...   \n",
       "\n",
       "                   Civil Service Title Title Code No Level  \\\n",
       "Job ID                                                       \n",
       "87990   CONTRACT REVIEWER (OFFICE OF L         40563     1   \n",
       "97899   ADMINISTRATIVE BUSINESS PROMOT         10009    M3   \n",
       "132292              MAINTENANCE WORKER         90698     0   \n",
       "\n",
       "                    Job Category Full-Time/Part-Time indicator  \\\n",
       "Job ID                                                           \n",
       "87990                        NaN                           NaN   \n",
       "97899                        NaN                             F   \n",
       "132292  Maintenance & Operations                             F   \n",
       "\n",
       "        Salary Range From  ...  \\\n",
       "Job ID                     ...   \n",
       "87990            42405.00  ...   \n",
       "97899            60740.00  ...   \n",
       "132292           51907.68  ...   \n",
       "\n",
       "                                   Additional Information  \\\n",
       "Job ID                                                      \n",
       "87990   Salary range for this position is: $42,405 - $...   \n",
       "97899                                                 NaN   \n",
       "132292  1.  A Motor Vehicle Driverâ€™s License valid i...   \n",
       "\n",
       "                                                 To Apply Hours/Shift  \\\n",
       "Job ID                                                                  \n",
       "87990                                                 NaN         NaN   \n",
       "97899   In addition to applying through this website, ...         NaN   \n",
       "132292                      Click the \"Apply Now\" button.         NaN   \n",
       "\n",
       "       Work Location 1 Recruitment Contact  \\\n",
       "Job ID                                       \n",
       "87990              NaN                 NaN   \n",
       "97899              NaN                 NaN   \n",
       "132292             NaN                 NaN   \n",
       "\n",
       "                                    Residency Requirement  \\\n",
       "Job ID                                                      \n",
       "87990   New York City residency is generally required ...   \n",
       "97899   New York City residency is generally required ...   \n",
       "132292               NYCHA has no residency requirements.   \n",
       "\n",
       "                   Posting Date Post Until          Posting Updated  \\\n",
       "Job ID                                                                \n",
       "87990   2011-06-24T00:00:00.000        NaN  2011-06-24T00:00:00.000   \n",
       "97899   2012-01-26T00:00:00.000        NaN  2012-01-26T00:00:00.000   \n",
       "132292  2013-10-24T00:00:00.000        NaN  2013-12-12T00:00:00.000   \n",
       "\n",
       "                   Process Date  \n",
       "Job ID                           \n",
       "87990   2019-12-17T00:00:00.000  \n",
       "97899   2019-12-17T00:00:00.000  \n",
       "132292  2019-12-17T00:00:00.000  \n",
       "\n",
       "[3 rows x 27 columns]"
      ]
     },
     "execution_count": 227,
     "metadata": {},
     "output_type": "execute_result"
    }
   ],
   "source": [
    "os.getcwd()\n",
    "for file in os.listdir():\n",
    "    if '.csv' in file:\n",
    "        print(file)\n",
    "    elif '.xlsx' in file:\n",
    "        print(file)\n",
    "        \n",
    "nyc_jobs = pd.read_csv('nyc-jobs.csv', index_col = 0)\n",
    "nyc_jobs.head(3)"
   ]
  },
  {
   "cell_type": "markdown",
   "metadata": {
    "deletable": false,
    "editable": false,
    "nbgrader": {
     "cell_type": "markdown",
     "checksum": "e5022e7a42fd5ce82e190afafaa74317",
     "grade": false,
     "grade_id": "cell-ed8645fbcc4d4672",
     "locked": true,
     "schema_version": 3,
     "solution": false,
     "task": false
    }
   },
   "source": [
    "### DO NOT RUN THE NEXT CELL. IT IS FOR ME FOR GRADING PURPOSES"
   ]
  },
  {
   "cell_type": "code",
   "execution_count": null,
   "metadata": {
    "deletable": false,
    "editable": false,
    "nbgrader": {
     "cell_type": "code",
     "checksum": "ca6f3e71bb0986c2ed7e9b97ddc7bc82",
     "grade": false,
     "grade_id": "cell-cc3b9468f0d83d7d",
     "locked": true,
     "schema_version": 3,
     "solution": false,
     "task": false
    }
   },
   "outputs": [],
   "source": [
    "nyc_jobs = pd.read_csv('/Users/drewwilliams/Desktop/PyClass/2021 Fall/source/FINAL/nyc-jobs.csv')"
   ]
  },
  {
   "cell_type": "markdown",
   "metadata": {
    "deletable": false,
    "editable": false,
    "nbgrader": {
     "cell_type": "markdown",
     "checksum": "73ab35c936c954f1e7c6c6c86028279b",
     "grade": false,
     "grade_id": "cell-db1aa5ce5a20a94d",
     "locked": true,
     "schema_version": 3,
     "solution": false,
     "task": false
    }
   },
   "source": [
    "### CONTINUE Q9 FROM HERE\n",
    ">- Make a new column named `Fixed Date` that is made from `Posting Date` but removes the `T00:00:00.000`\n",
    "otherwise\n",
    ">- Change the Column `Fixed Date` into a date type instead of an Object type\n",
    ">- Using `.map()` and `lambda` create a new column named `Pay` that is \"Good\", if the job is level `M3` and \"Unknown\" otherwise \n",
    ">- Create a new dataframe named `nyc_filtered` by filtering the `nyc_jobs` dataframe to only include a `Posting Type` of `Internal` and a `Fixed Date` between the dates `2019-01-01` and `2019-06-30` (Includes both Jan 1 and Jun 30, but not July 1)\n",
    ">- How many Jobs are in your `nyc_filtered` dataframe? Store the number of jobs in a variable alled `my_jobs`"
   ]
  },
  {
   "cell_type": "code",
   "execution_count": 245,
   "metadata": {
    "deletable": false,
    "nbgrader": {
     "cell_type": "code",
     "checksum": "812ddbf489511439ca029fcc00e55f7c",
     "grade": false,
     "grade_id": "cell-f536c030c230af30",
     "locked": false,
     "schema_version": 3,
     "solution": true,
     "task": false
    }
   },
   "outputs": [
    {
     "ename": "KeyError",
     "evalue": "'Title Code No'",
     "output_type": "error",
     "traceback": [
      "\u001b[1;31m---------------------------------------------------------------------------\u001b[0m",
      "\u001b[1;31mKeyError\u001b[0m                                  Traceback (most recent call last)",
      "\u001b[1;32m~\\Anaconda3\\lib\\site-packages\\pandas\\core\\indexes\\base.py\u001b[0m in \u001b[0;36mget_loc\u001b[1;34m(self, key, method, tolerance)\u001b[0m\n\u001b[0;32m   3079\u001b[0m             \u001b[1;32mtry\u001b[0m\u001b[1;33m:\u001b[0m\u001b[1;33m\u001b[0m\u001b[1;33m\u001b[0m\u001b[0m\n\u001b[1;32m-> 3080\u001b[1;33m                 \u001b[1;32mreturn\u001b[0m \u001b[0mself\u001b[0m\u001b[1;33m.\u001b[0m\u001b[0m_engine\u001b[0m\u001b[1;33m.\u001b[0m\u001b[0mget_loc\u001b[0m\u001b[1;33m(\u001b[0m\u001b[0mcasted_key\u001b[0m\u001b[1;33m)\u001b[0m\u001b[1;33m\u001b[0m\u001b[1;33m\u001b[0m\u001b[0m\n\u001b[0m\u001b[0;32m   3081\u001b[0m             \u001b[1;32mexcept\u001b[0m \u001b[0mKeyError\u001b[0m \u001b[1;32mas\u001b[0m \u001b[0merr\u001b[0m\u001b[1;33m:\u001b[0m\u001b[1;33m\u001b[0m\u001b[1;33m\u001b[0m\u001b[0m\n",
      "\u001b[1;32mpandas\\_libs\\index.pyx\u001b[0m in \u001b[0;36mpandas._libs.index.IndexEngine.get_loc\u001b[1;34m()\u001b[0m\n",
      "\u001b[1;32mpandas\\_libs\\index.pyx\u001b[0m in \u001b[0;36mpandas._libs.index.IndexEngine.get_loc\u001b[1;34m()\u001b[0m\n",
      "\u001b[1;32mpandas\\_libs\\hashtable_class_helper.pxi\u001b[0m in \u001b[0;36mpandas._libs.hashtable.PyObjectHashTable.get_item\u001b[1;34m()\u001b[0m\n",
      "\u001b[1;32mpandas\\_libs\\hashtable_class_helper.pxi\u001b[0m in \u001b[0;36mpandas._libs.hashtable.PyObjectHashTable.get_item\u001b[1;34m()\u001b[0m\n",
      "\u001b[1;31mKeyError\u001b[0m: 'Title Code No'",
      "\nThe above exception was the direct cause of the following exception:\n",
      "\u001b[1;31mKeyError\u001b[0m                                  Traceback (most recent call last)",
      "\u001b[1;32m<ipython-input-245-84f008bfba27>\u001b[0m in \u001b[0;36m<module>\u001b[1;34m\u001b[0m\n\u001b[0;32m      4\u001b[0m \u001b[1;33m\u001b[0m\u001b[0m\n\u001b[0;32m      5\u001b[0m \u001b[0mnyc_filtered\u001b[0m \u001b[1;33m=\u001b[0m \u001b[0mpd\u001b[0m\u001b[1;33m.\u001b[0m\u001b[0mDataFrame\u001b[0m\u001b[1;33m(\u001b[0m\u001b[0mnyc_jobs\u001b[0m\u001b[1;33m[\u001b[0m\u001b[1;34m'Posting Type'\u001b[0m\u001b[1;33m]\u001b[0m \u001b[1;33m==\u001b[0m \u001b[1;34m'Internal'\u001b[0m\u001b[1;33m)\u001b[0m\u001b[1;33m\u001b[0m\u001b[1;33m\u001b[0m\u001b[0m\n\u001b[1;32m----> 6\u001b[1;33m \u001b[0mmy_jobs\u001b[0m \u001b[1;33m=\u001b[0m \u001b[0mnyc_filtered\u001b[0m\u001b[1;33m[\u001b[0m\u001b[1;34m'Title Code No'\u001b[0m\u001b[1;33m]\u001b[0m\u001b[1;33m.\u001b[0m\u001b[0mnunqiue\u001b[0m\u001b[1;33m(\u001b[0m\u001b[1;33m)\u001b[0m\u001b[1;33m\u001b[0m\u001b[1;33m\u001b[0m\u001b[0m\n\u001b[0m\u001b[0;32m      7\u001b[0m \u001b[1;33m\u001b[0m\u001b[0m\n\u001b[0;32m      8\u001b[0m \u001b[1;33m\u001b[0m\u001b[0m\n",
      "\u001b[1;32m~\\Anaconda3\\lib\\site-packages\\pandas\\core\\frame.py\u001b[0m in \u001b[0;36m__getitem__\u001b[1;34m(self, key)\u001b[0m\n\u001b[0;32m   3022\u001b[0m             \u001b[1;32mif\u001b[0m \u001b[0mself\u001b[0m\u001b[1;33m.\u001b[0m\u001b[0mcolumns\u001b[0m\u001b[1;33m.\u001b[0m\u001b[0mnlevels\u001b[0m \u001b[1;33m>\u001b[0m \u001b[1;36m1\u001b[0m\u001b[1;33m:\u001b[0m\u001b[1;33m\u001b[0m\u001b[1;33m\u001b[0m\u001b[0m\n\u001b[0;32m   3023\u001b[0m                 \u001b[1;32mreturn\u001b[0m \u001b[0mself\u001b[0m\u001b[1;33m.\u001b[0m\u001b[0m_getitem_multilevel\u001b[0m\u001b[1;33m(\u001b[0m\u001b[0mkey\u001b[0m\u001b[1;33m)\u001b[0m\u001b[1;33m\u001b[0m\u001b[1;33m\u001b[0m\u001b[0m\n\u001b[1;32m-> 3024\u001b[1;33m             \u001b[0mindexer\u001b[0m \u001b[1;33m=\u001b[0m \u001b[0mself\u001b[0m\u001b[1;33m.\u001b[0m\u001b[0mcolumns\u001b[0m\u001b[1;33m.\u001b[0m\u001b[0mget_loc\u001b[0m\u001b[1;33m(\u001b[0m\u001b[0mkey\u001b[0m\u001b[1;33m)\u001b[0m\u001b[1;33m\u001b[0m\u001b[1;33m\u001b[0m\u001b[0m\n\u001b[0m\u001b[0;32m   3025\u001b[0m             \u001b[1;32mif\u001b[0m \u001b[0mis_integer\u001b[0m\u001b[1;33m(\u001b[0m\u001b[0mindexer\u001b[0m\u001b[1;33m)\u001b[0m\u001b[1;33m:\u001b[0m\u001b[1;33m\u001b[0m\u001b[1;33m\u001b[0m\u001b[0m\n\u001b[0;32m   3026\u001b[0m                 \u001b[0mindexer\u001b[0m \u001b[1;33m=\u001b[0m \u001b[1;33m[\u001b[0m\u001b[0mindexer\u001b[0m\u001b[1;33m]\u001b[0m\u001b[1;33m\u001b[0m\u001b[1;33m\u001b[0m\u001b[0m\n",
      "\u001b[1;32m~\\Anaconda3\\lib\\site-packages\\pandas\\core\\indexes\\base.py\u001b[0m in \u001b[0;36mget_loc\u001b[1;34m(self, key, method, tolerance)\u001b[0m\n\u001b[0;32m   3080\u001b[0m                 \u001b[1;32mreturn\u001b[0m \u001b[0mself\u001b[0m\u001b[1;33m.\u001b[0m\u001b[0m_engine\u001b[0m\u001b[1;33m.\u001b[0m\u001b[0mget_loc\u001b[0m\u001b[1;33m(\u001b[0m\u001b[0mcasted_key\u001b[0m\u001b[1;33m)\u001b[0m\u001b[1;33m\u001b[0m\u001b[1;33m\u001b[0m\u001b[0m\n\u001b[0;32m   3081\u001b[0m             \u001b[1;32mexcept\u001b[0m \u001b[0mKeyError\u001b[0m \u001b[1;32mas\u001b[0m \u001b[0merr\u001b[0m\u001b[1;33m:\u001b[0m\u001b[1;33m\u001b[0m\u001b[1;33m\u001b[0m\u001b[0m\n\u001b[1;32m-> 3082\u001b[1;33m                 \u001b[1;32mraise\u001b[0m \u001b[0mKeyError\u001b[0m\u001b[1;33m(\u001b[0m\u001b[0mkey\u001b[0m\u001b[1;33m)\u001b[0m \u001b[1;32mfrom\u001b[0m \u001b[0merr\u001b[0m\u001b[1;33m\u001b[0m\u001b[1;33m\u001b[0m\u001b[0m\n\u001b[0m\u001b[0;32m   3083\u001b[0m \u001b[1;33m\u001b[0m\u001b[0m\n\u001b[0;32m   3084\u001b[0m         \u001b[1;32mif\u001b[0m \u001b[0mtolerance\u001b[0m \u001b[1;32mis\u001b[0m \u001b[1;32mnot\u001b[0m \u001b[1;32mNone\u001b[0m\u001b[1;33m:\u001b[0m\u001b[1;33m\u001b[0m\u001b[1;33m\u001b[0m\u001b[0m\n",
      "\u001b[1;31mKeyError\u001b[0m: 'Title Code No'"
     ]
    }
   ],
   "source": [
    "nyc_jobs['Fixed Date'] = pd.to_datetime(nyc_jobs['Posting Date'])\n",
    "\n",
    "nyc_jobs['Fixed Date']\n",
    "\n",
    "nyc_filtered = pd.DataFrame(nyc_jobs['Posting Type'] == 'Internal')\n",
    "my_jobs = nyc_filtered['Title Code No'].nunqiue()\n",
    "                                    \n",
    "\n",
    "nyc_jobs.head(3)"
   ]
  },
  {
   "cell_type": "markdown",
   "metadata": {
    "deletable": false,
    "editable": false,
    "nbgrader": {
     "cell_type": "markdown",
     "checksum": "c879c8a9896aae146f008dd3ce79c873",
     "grade": false,
     "grade_id": "q9warn",
     "locked": true,
     "schema_version": 3,
     "solution": false,
     "task": false
    }
   },
   "source": [
    "##### DO NOT HAVE ANY CODE FOR Q9 UNDER THIS CELL"
   ]
  },
  {
   "cell_type": "code",
   "execution_count": null,
   "metadata": {
    "deletable": false,
    "editable": false,
    "nbgrader": {
     "cell_type": "code",
     "checksum": "e70a808fa112d99caf636c6f8186a955",
     "grade": true,
     "grade_id": "cell-ea6260e7e70ecfa2",
     "locked": true,
     "points": 40,
     "schema_version": 3,
     "solution": false,
     "task": false
    }
   },
   "outputs": [],
   "source": [
    "# HIDDEN TEST, CANNOT ACCESS CELL"
   ]
  },
  {
   "cell_type": "markdown",
   "metadata": {
    "deletable": false,
    "editable": false,
    "nbgrader": {
     "cell_type": "markdown",
     "checksum": "afc5fd0e5afc82484cace051b10f9d75",
     "grade": false,
     "grade_id": "cell-ec8a5ffa5348592e",
     "locked": true,
     "schema_version": 3,
     "solution": false,
     "task": false
    }
   },
   "source": [
    "### Q10 (10 Points)\n",
    ">- Describe some differences between supervised and unsupervised learning.\n",
    ">- List one examples for when to use supervised ML\n",
    ">- List one examples for when to use unsupervised ML"
   ]
  },
  {
   "cell_type": "code",
   "execution_count": null,
   "metadata": {
    "deletable": false,
    "nbgrader": {
     "cell_type": "code",
     "checksum": "adc98513be2d3b0efee07a63ea7d6700",
     "grade": false,
     "grade_id": "cell-4ee4da6b7318c1c7",
     "locked": false,
     "schema_version": 3,
     "solution": true,
     "task": false
    }
   },
   "outputs": [],
   "source": [
    "#supervised ML uses prelabeled datasets which train algorithims into classifying data sets or predicting outcomes\n",
    "#while unsupervised ML is without human intervention that lets algorithims \"train\" themselves to identify hidden patterns in data sets without any prelabling\n",
    "\n",
    "\n",
    "#Supervised ML is used for things like house prices, superived ML is given a ton of data like square footage or number of bed/bathrooms in houses to predict the price of a home\n",
    "\n",
    "#unsupervised ML is used for things like finding marketing customer bases. Unsupervised algorithims will find patterns in things like gender, age, location etc. to determine which customers would be best to market to\n"
   ]
  },
  {
   "cell_type": "markdown",
   "metadata": {
    "deletable": false,
    "editable": false,
    "nbgrader": {
     "cell_type": "markdown",
     "checksum": "1621f42dac2bb5975bb3cef794d6db26",
     "grade": false,
     "grade_id": "cell-867bfb2e881f4abc",
     "locked": true,
     "schema_version": 3,
     "solution": false,
     "task": false
    }
   },
   "source": [
    "### Q11 (10 Points)\n",
    ">- Describe what an API is\n",
    ">- What code command do you run to make a request?\n",
    ">- What code command do you run to make your request into a dictionary?"
   ]
  },
  {
   "cell_type": "code",
   "execution_count": null,
   "metadata": {
    "deletable": false,
    "nbgrader": {
     "cell_type": "code",
     "checksum": "1e199fa4e539407584f2cf6fc57c022d",
     "grade": false,
     "grade_id": "cell-7ce164e4dadcb314",
     "locked": false,
     "schema_version": 3,
     "solution": true,
     "task": false
    }
   },
   "outputs": [],
   "source": [
    "#API's are ways for software programs to communicate with one another\n",
    "#in our case we used it to recieve API data from different software platforms\n",
    "\n",
    "#request.get(link)\n",
    "\n",
    "#we can use the response.json() command to turn our request into a dictionary"
   ]
  },
  {
   "cell_type": "code",
   "execution_count": null,
   "metadata": {
    "deletable": false,
    "editable": false,
    "nbgrader": {
     "cell_type": "code",
     "checksum": "2bb656ef9fa4bcb7b7f8aff53be14926",
     "grade": true,
     "grade_id": "cell-b48933a90db88f6a",
     "locked": true,
     "points": 20,
     "schema_version": 3,
     "solution": false,
     "task": false
    }
   },
   "outputs": [],
   "source": [
    "# HIDDEN TEST, CANNOT ACCESS CELL\n",
    "assert True == True"
   ]
  },
  {
   "cell_type": "markdown",
   "metadata": {
    "deletable": false,
    "editable": false,
    "nbgrader": {
     "cell_type": "markdown",
     "checksum": "81db60a0608ec05b9fa5673947346277",
     "grade": false,
     "grade_id": "cell-a7c2c596941897eb",
     "locked": true,
     "schema_version": 3,
     "solution": false,
     "task": false
    }
   },
   "source": [
    "### Q12 (10 Points)\n",
    ">- Capture Job Title, Salary, and Years of experience from the following string using regex `.search()`\n",
    ">- Save the groups in the following variables `title`, `salary`, `years`"
   ]
  },
  {
   "cell_type": "code",
   "execution_count": 238,
   "metadata": {
    "deletable": false,
    "nbgrader": {
     "cell_type": "code",
     "checksum": "41626a21030d1a7f5689ff0dc979f6cd",
     "grade": false,
     "grade_id": "cell-4a39d23be3375a25",
     "locked": false,
     "schema_version": 3,
     "solution": true,
     "task": false
    }
   },
   "outputs": [
    {
     "name": "stdout",
     "output_type": "stream",
     "text": [
      "Business Analyst Manager\n",
      "$122,000\n",
      "5\n"
     ]
    }
   ],
   "source": [
    "import re\n",
    "info = 'Business Analyst Manager, $122,000, 5'\n",
    "\n",
    "pattern = '\\w+\\s\\w+\\s\\w+,\\s\\$\\d+,\\d+,\\s\\d+'\n",
    "capture = '(\\w+\\s\\w+\\s\\w+),\\s(\\$\\d+,\\d+),\\s(\\d+)'\n",
    "\n",
    "re.findall(pattern, info)\n",
    "\n",
    "title = re.search(capture, info).group(1)\n",
    "salary = re.search(capture, info).group(2)\n",
    "years =re.search(capture, info).group(3)\n",
    "\n",
    "print(title)\n",
    "print(salary)\n",
    "print(years)"
   ]
  },
  {
   "cell_type": "markdown",
   "metadata": {
    "deletable": false,
    "editable": false,
    "nbgrader": {
     "cell_type": "markdown",
     "checksum": "37cd79405fdabe4e9202730d10df9e81",
     "grade": false,
     "grade_id": "q10warn",
     "locked": true,
     "schema_version": 3,
     "solution": false,
     "task": false
    }
   },
   "source": [
    "##### DO NOT HAVE ANY CODE FOR Q12 UNDER THIS CELL"
   ]
  },
  {
   "cell_type": "code",
   "execution_count": null,
   "metadata": {
    "deletable": false,
    "editable": false,
    "nbgrader": {
     "cell_type": "code",
     "checksum": "6bcdbc283f8a8fe7a095b77876e072c7",
     "grade": true,
     "grade_id": "cell-306fd1da79d76c0b",
     "locked": true,
     "points": 10,
     "schema_version": 3,
     "solution": false,
     "task": false
    }
   },
   "outputs": [],
   "source": [
    "# HIDDEN TEST, CANNOT ACCESS CELL"
   ]
  }
 ],
 "metadata": {
  "kernelspec": {
   "display_name": "Python 3",
   "language": "python",
   "name": "python3"
  },
  "language_info": {
   "codemirror_mode": {
    "name": "ipython",
    "version": 3
   },
   "file_extension": ".py",
   "mimetype": "text/x-python",
   "name": "python",
   "nbconvert_exporter": "python",
   "pygments_lexer": "ipython3",
   "version": "3.8.8"
  }
 },
 "nbformat": 4,
 "nbformat_minor": 4
}
